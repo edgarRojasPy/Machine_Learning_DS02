{
 "cells": [
  {
   "cell_type": "code",
   "execution_count": 2,
   "metadata": {},
   "outputs": [],
   "source": [
    "from lazypredict.Supervised import LazyRegressor\n",
    "from sklearn.datasets import fetch_california_housing\n",
    "from sklearn.model_selection import train_test_split"
   ]
  },
  {
   "cell_type": "code",
   "execution_count": 3,
   "metadata": {},
   "outputs": [
    {
     "name": "stderr",
     "output_type": "stream",
     "text": [
      " 55%|█████▍    | 23/42 [02:10<00:47,  2.50s/it]c:\\Users\\edgar\\miniforge3\\envs\\lazy_predict\\Lib\\site-packages\\sklearn\\svm\\_base.py:1235: ConvergenceWarning: Liblinear failed to converge, increase the number of iterations.\n",
      "  warnings.warn(\n",
      "100%|██████████| 42/42 [03:03<00:00,  4.37s/it]\n"
     ]
    },
    {
     "name": "stdout",
     "output_type": "stream",
     "text": [
      "                               Adjusted R-Squared  R-Squared  RMSE  Time Taken\n",
      "Model                                                                         \n",
      "LGBMRegressor                                0.84       0.84  0.46        0.18\n",
      "HistGradientBoostingRegressor                0.84       0.84  0.46        0.64\n",
      "XGBRegressor                                 0.83       0.83  0.47        0.25\n",
      "ExtraTreesRegressor                          0.81       0.81  0.50        3.92\n",
      "RandomForestRegressor                        0.80       0.81  0.51       12.10\n",
      "BaggingRegressor                             0.78       0.78  0.53        1.13\n",
      "MLPRegressor                                 0.78       0.78  0.54        6.52\n",
      "GradientBoostingRegressor                    0.78       0.78  0.54        7.03\n",
      "NuSVR                                        0.73       0.73  0.59       13.58\n",
      "SVR                                          0.73       0.73  0.60       12.24\n",
      "KNeighborsRegressor                          0.67       0.67  0.66        0.61\n",
      "DecisionTreeRegressor                        0.62       0.62  0.70        0.17\n",
      "SGDRegressor                                 0.58       0.58  0.74        0.02\n",
      "OrthogonalMatchingPursuitCV                  0.58       0.58  0.74        0.04\n",
      "ElasticNetCV                                 0.58       0.58  0.74        0.21\n",
      "LassoCV                                      0.58       0.58  0.74        0.40\n",
      "LarsCV                                       0.58       0.58  0.74        0.14\n",
      "LassoLarsCV                                  0.58       0.58  0.74        0.07\n",
      "BayesianRidge                                0.58       0.58  0.75        0.02\n",
      "RidgeCV                                      0.57       0.58  0.75        0.04\n",
      "Ridge                                        0.57       0.58  0.75        0.02\n",
      "Lars                                         0.57       0.58  0.75        0.04\n",
      "LassoLarsIC                                  0.57       0.58  0.75        0.03\n",
      "LinearRegression                             0.57       0.58  0.75        0.02\n",
      "TransformedTargetRegressor                   0.57       0.58  0.75        0.03\n",
      "HuberRegressor                               0.56       0.56  0.76        0.17\n",
      "LinearSVR                                    0.56       0.56  0.76        1.14\n",
      "ExtraTreeRegressor                           0.54       0.54  0.77        0.05\n",
      "AdaBoostRegressor                            0.53       0.53  0.78        0.46\n",
      "OrthogonalMatchingPursuit                    0.46       0.46  0.84        0.01\n",
      "PoissonRegressor                             0.44       0.44  0.86        0.02\n",
      "RANSACRegressor                              0.40       0.40  0.89        0.14\n",
      "TweedieRegressor                             0.39       0.39  0.90        0.02\n",
      "GammaRegressor                               0.37       0.37  0.91        0.16\n",
      "ElasticNet                                   0.20       0.20  1.02        0.13\n",
      "DummyRegressor                              -0.00      -0.00  1.14        0.01\n",
      "Lasso                                       -0.00      -0.00  1.14        0.07\n",
      "LassoLars                                   -0.00      -0.00  1.14        0.02\n",
      "QuantileRegressor                           -0.05      -0.05  1.17        6.75\n",
      "PassiveAggressiveRegressor                  -0.27      -0.27  1.29        0.04\n",
      "KernelRidge                                 -2.72      -2.71  2.21       28.92\n",
      "GaussianProcessRegressor                 -1868.06   -1864.44 49.44       85.93\n"
     ]
    }
   ],
   "source": [
    "# Cargar el dataset\n",
    "data = fetch_california_housing()\n",
    "X, y = data.data, data.target\n",
    "\n",
    "# Dividir el Dataset\n",
    "X_train, X_test, y_train, y_test = train_test_split(X, y, test_size=0.2, random_state=42)\n",
    "\n",
    "# Usar LazyRegressor\n",
    "reg = LazyRegressor(verbose=0, ignore_warnings=True, custom_metric=None)\n",
    "models, predictions = reg.fit(X_train,X_test,y_train,y_test)\n",
    "\n",
    "print(models)"
   ]
  }
 ],
 "metadata": {
  "kernelspec": {
   "display_name": "lazy_predict",
   "language": "python",
   "name": "python3"
  },
  "language_info": {
   "codemirror_mode": {
    "name": "ipython",
    "version": 3
   },
   "file_extension": ".py",
   "mimetype": "text/x-python",
   "name": "python",
   "nbconvert_exporter": "python",
   "pygments_lexer": "ipython3",
   "version": "3.13.0"
  }
 },
 "nbformat": 4,
 "nbformat_minor": 2
}
