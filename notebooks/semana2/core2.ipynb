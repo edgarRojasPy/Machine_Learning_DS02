{
 "cells": [
  {
   "cell_type": "code",
   "execution_count": 1,
   "metadata": {},
   "outputs": [],
   "source": [
    "#import kagglehub\n",
    "\n",
    "# Download latest version\n",
    "#path = kagglehub.dataset_download(\"toramky/automobile-dataset\")\n",
    "\n",
    "#print(\"Path to dataset files:\", path)"
   ]
  },
  {
   "cell_type": "code",
   "execution_count": 1,
   "metadata": {},
   "outputs": [],
   "source": [
    "import pandas as pd\n",
    "import numpy as np\n",
    "import random\n",
    "import matplotlib.pyplot as plt\n",
    "import seaborn as sns\n",
    "\n",
    "# Agregar la carpeta 'src' al sys.path\n",
    "import sys\n",
    "import os\n",
    "\n",
    "sys.path.append(os.path.abspath(\"../../src\"))\n",
    "\n",
    "# Ahora puedes importar utils\n",
    "from utils import cargar_datos_pd\n",
    "from utils import ver_resumen_nulos\n",
    "from utils import limpiar_letras_de_numeros\n",
    "from utils import obtener_filas_no_numericas\n",
    "from utils import identificar_atipicos_IQR\n",
    "from utils import ver_diccionario\n",
    "from utils import imprimir_bigotes\n",
    "from utils import obtener_filas_no_fechas\n",
    "#C:\\Users\\edgar\\OneDrive\\Documentos\\codingDojo\\Machine_Learning_DS02\\data\\Automobile_data.csv\n",
    "#C:\\Users\\edgar\\OneDrive\\Documentos\\codingDojo\\Machine_Learning_DS02\\notebooks\\semana1\\analisis_eda_practica.ipynb\n",
    "ruta_archivo = \"../../data/Automobile_data.csv\"\n",
    "columna = 'nombre_columna'\n",
    "titulo = 'titulo'\n",
    "\n",
    "from sklearn.metrics import pairwise_distances\n",
    "import pandas as pd\n",
    "\n",
    "from sklearn.preprocessing import StandardScaler\n",
    "from sklearn.metrics import pairwise_distances\n",
    "import matplotlib.pyplot as plt\n",
    "\n",
    "# Suponiendo que `distancias_promedio` es el DataFrame que retorna la función\n",
    "def graficar_distancias(distancias_promedio):\n",
    "    plt.figure(figsize=(10, 6))\n",
    "    plt.hist(distancias_promedio[0], bins=20, color='skyblue', edgecolor='black')\n",
    "    plt.title('Distribución de las distancias promedio por marca')\n",
    "    plt.xlabel('Distancia promedio')\n",
    "    plt.ylabel('Frecuencia')\n",
    "    plt.show()\n",
    "\n",
    "    plt.figure(figsize=(10, 6))\n",
    "    plt.boxplot(distancias_promedio[0], vert=False)\n",
    "    plt.title('Diagrama de caja de distancias promedio por marca')\n",
    "    plt.xlabel('Distancia promedio')\n",
    "    plt.show()\n",
    "\n",
    "\n",
    "def buscar_marca_similar(df, marca_objetivo):\n",
    "    # Verificar si la marca objetivo existe en el DataFrame\n",
    "    if marca_objetivo not in df['make'].unique():\n",
    "        raise ValueError(f\"La marca '{marca_objetivo}' no está presente en el DataFrame.\")\n",
    "\n",
    "    # Filtrar el DataFrame para incluir solo la marca objetivo\n",
    "    df_objetivo = df[df['make'] == marca_objetivo]\n",
    "\n",
    "    # Filtrar el DataFrame para eliminar marcas sin 'normalized-losses'\n",
    "    df_filtrado = df.dropna(subset=['normalized-losses'])\n",
    "\n",
    "    # Seleccionar las columnas numéricas relevantes\n",
    "    columns_numericas = ['wheel-base', 'length', 'width', 'height', 'curb-weight', \n",
    "                         'engine-size', 'compression-ratio', 'city-mpg', 'highway-mpg']\n",
    "\n",
    "    # Escalar los datos numéricos\n",
    "    scaler = StandardScaler()\n",
    "    df_scaled = df_filtrado.copy()\n",
    "    df_scaled[columns_numericas] = scaler.fit_transform(df_filtrado[columns_numericas])\n",
    "\n",
    "    df_objetivo_scaled = df_objetivo.copy()\n",
    "    df_objetivo_scaled[columns_numericas] = scaler.transform(df_objetivo[columns_numericas])\n",
    "\n",
    "    # Calcular la distancia entre la marca objetivo y las demás marcas\n",
    "    distancias = pairwise_distances(df_scaled[columns_numericas], \n",
    "                                    df_objetivo_scaled[columns_numericas], \n",
    "                                    metric='euclidean')\n",
    "\n",
    "    # Crear un DataFrame con las distancias y las marcas\n",
    "    distancias_df = pd.DataFrame(distancias, index=df_scaled.index)\n",
    "    distancias_df['make'] = df_scaled['make'].values\n",
    "\n",
    "    # Agrupar por marca y obtener la distancia promedio\n",
    "    distancias_promedio = distancias_df.groupby('make').mean().sort_values(by=0)\n",
    "\n",
    "    # Graficamos para ver\n",
    "    graficar_distancias(distancias_promedio)\n",
    "    \n",
    "    # Mostrar las marcas más similares a la marca objetivo\n",
    "    return distancias_promedio.head()\n",
    "\n",
    "def tiene_nulos(df,marca):\n",
    "    tiene_nulos = df[df['make'] == marca]['normalized-losses'].isnull().any()\n",
    "    if tiene_nulos:\n",
    "        print(f\"La marca {marca} SIIIII TIENE VALORES NULOS!!!!! en 'normalized-losses'.\")\n",
    "    else:\n",
    "        print(f\"La marca {marca} no tiene valores nulos en 'normalized-losses'.\")\n",
    "\n",
    "\n",
    "    "
   ]
  },
  {
   "cell_type": "markdown",
   "metadata": {},
   "source": [
    "**Instrucciones:**\n",
    "\n",
    "**Parte 1: Análisis Exploratorio de Datos (EDA)**\n",
    "\n",
    " 1. Carga y Exploración de Datos:"
   ]
  },
  {
   "cell_type": "code",
   "execution_count": 2,
   "metadata": {},
   "outputs": [],
   "source": [
    "#Cargar el dataset y revisar la estructura básica.\n",
    "#Carganos el archivo. Se modifico manualmente el archivo para la limpieza.\n",
    "# Carga los datos del archivo CSV utilizando Pandas.\n",
    "df = pd.read_csv(ruta_archivo, sep=',',header=0)\n",
    "df_original =df.copy()\n"
   ]
  },
  {
   "cell_type": "markdown",
   "metadata": {},
   "source": [
    "## Limpieza de datos con Python:"
   ]
  },
  {
   "cell_type": "markdown",
   "metadata": {},
   "source": [
    "### **Verificación y ajuste de tipos de datos** \n",
    "\n",
    "Asegúrate de que todas las columnas coincidan con los tipos de datos indicados en el diccionario de datos."
   ]
  },
  {
   "cell_type": "code",
   "execution_count": 4,
   "metadata": {},
   "outputs": [
    {
     "name": "stdout",
     "output_type": "stream",
     "text": [
      "                             0            1            2      3      4\n",
      "symboling                    3            3            1      2      2\n",
      "normalized-losses            ?            ?            ?    164    164\n",
      "make               alfa-romero  alfa-romero  alfa-romero   audi   audi\n",
      "fuel-type                  gas          gas          gas    gas    gas\n",
      "aspiration                 std          std          std    std    std\n",
      "num-of-doors               two          two          two   four   four\n",
      "body-style         convertible  convertible    hatchback  sedan  sedan\n",
      "drive-wheels               rwd          rwd          rwd    fwd    4wd\n",
      "engine-location          front        front        front  front  front\n",
      "wheel-base                88.6         88.6         94.5   99.8   99.4\n",
      "length                   168.8        168.8        171.2  176.6  176.6\n",
      "width                     64.1         64.1         65.5   66.2   66.4\n",
      "height                    48.8         48.8         52.4   54.3   54.3\n",
      "curb-weight               2548         2548         2823   2337   2824\n",
      "engine-type               dohc         dohc         ohcv    ohc    ohc\n",
      "num-of-cylinders          four         four          six   four   five\n",
      "engine-size                130          130          152    109    136\n",
      "fuel-system               mpfi         mpfi         mpfi   mpfi   mpfi\n",
      "bore                      3.47         3.47         2.68   3.19   3.19\n",
      "stroke                    2.68         2.68         3.47    3.4    3.4\n",
      "compression-ratio          9.0          9.0          9.0   10.0    8.0\n",
      "horsepower                 111          111          154    102    115\n",
      "peak-rpm                  5000         5000         5000   5500   5500\n",
      "city-mpg                    21           21           19     24     18\n",
      "highway-mpg                 27           27           26     30     22\n",
      "price                    13495        16500        16500  13950  17450\n"
     ]
    }
   ],
   "source": [
    "print(df.head().T)"
   ]
  },
  {
   "cell_type": "code",
   "execution_count": 5,
   "metadata": {},
   "outputs": [
    {
     "name": "stdout",
     "output_type": "stream",
     "text": [
      "Descripción de las variables:\n",
      "<class 'pandas.core.frame.DataFrame'>\n",
      "RangeIndex: 205 entries, 0 to 204\n",
      "Data columns (total 26 columns):\n",
      " #   Column             Non-Null Count  Dtype  \n",
      "---  ------             --------------  -----  \n",
      " 0   symboling          205 non-null    int64  \n",
      " 1   normalized-losses  205 non-null    object \n",
      " 2   make               205 non-null    object \n",
      " 3   fuel-type          205 non-null    object \n",
      " 4   aspiration         205 non-null    object \n",
      " 5   num-of-doors       205 non-null    object \n",
      " 6   body-style         205 non-null    object \n",
      " 7   drive-wheels       205 non-null    object \n",
      " 8   engine-location    205 non-null    object \n",
      " 9   wheel-base         205 non-null    float64\n",
      " 10  length             205 non-null    float64\n",
      " 11  width              205 non-null    float64\n",
      " 12  height             205 non-null    float64\n",
      " 13  curb-weight        205 non-null    int64  \n",
      " 14  engine-type        205 non-null    object \n",
      " 15  num-of-cylinders   205 non-null    object \n",
      " 16  engine-size        205 non-null    int64  \n",
      " 17  fuel-system        205 non-null    object \n",
      " 18  bore               205 non-null    object \n",
      " 19  stroke             205 non-null    object \n",
      " 20  compression-ratio  205 non-null    float64\n",
      " 21  horsepower         205 non-null    object \n",
      " 22  peak-rpm           205 non-null    object \n",
      " 23  city-mpg           205 non-null    int64  \n",
      " 24  highway-mpg        205 non-null    int64  \n",
      " 25  price              205 non-null    object \n",
      "dtypes: float64(5), int64(5), object(16)\n",
      "memory usage: 41.8+ KB\n"
     ]
    }
   ],
   "source": [
    "# Descripción básica de las variables\n",
    "print(\"Descripción de las variables:\")\n",
    "df.info()"
   ]
  },
  {
   "cell_type": "code",
   "execution_count": 6,
   "metadata": {},
   "outputs": [
    {
     "name": "stdout",
     "output_type": "stream",
     "text": [
      "Columnas con valores 'Yes' y 'No': []\n"
     ]
    }
   ],
   "source": [
    "# Detectar columnas con valores únicos ['Yes', 'No']\n",
    "yes_no_columns = [col for col in df.columns if sorted(df[col].dropna().unique()) == ['No', 'Yes']]\n",
    "print(\"Columnas con valores 'Yes' y 'No':\", yes_no_columns)\n",
    "# Aplicar el mapeo 'Yes' -> 1 y 'No' -> 0 a todas las columnas de una vez usando map y itertools\n",
    "df[yes_no_columns] = pd.DataFrame(\n",
    "    map(lambda col: df[col].map({'Yes': 1, 'No': 0}), yes_no_columns)\n",
    ").T.set_axis(yes_no_columns, axis=1)"
   ]
  },
  {
   "cell_type": "code",
   "execution_count": 7,
   "metadata": {},
   "outputs": [
    {
     "name": "stdout",
     "output_type": "stream",
     "text": [
      "data_dict = {\n",
      "    'symboling': 'int64',\n",
      "    'normalized-losses': 'object',\n",
      "    'make': 'object',\n",
      "    'fuel-type': 'object',\n",
      "    'aspiration': 'object',\n",
      "    'num-of-doors': 'object',\n",
      "    'body-style': 'object',\n",
      "    'drive-wheels': 'object',\n",
      "    'engine-location': 'object',\n",
      "    'wheel-base': 'float64',\n",
      "    'length': 'float64',\n",
      "    'width': 'float64',\n",
      "    'height': 'float64',\n",
      "    'curb-weight': 'int64',\n",
      "    'engine-type': 'object',\n",
      "    'num-of-cylinders': 'object',\n",
      "    'engine-size': 'int64',\n",
      "    'fuel-system': 'object',\n",
      "    'bore': 'object',\n",
      "    'stroke': 'object',\n",
      "    'compression-ratio': 'float64',\n",
      "    'horsepower': 'object',\n",
      "    'peak-rpm': 'object',\n",
      "    'city-mpg': 'int64',\n",
      "    'highway-mpg': 'int64',\n",
      "    'price': 'object',\n",
      "}\n"
     ]
    }
   ],
   "source": [
    "# Crear el diccionario con los nombres de las columnas y sus tipos de datos\n",
    "data_dict = {col: str(df[col].dtype) for col in df.columns}\n",
    "\n",
    "# Imprimir el diccionario en el formato solicitado\n",
    "print(\"data_dict = {\")\n",
    "for col, dtype in data_dict.items():\n",
    "    print(f\"    '{col}': '{dtype}',\")\n",
    "print(\"}\")\n"
   ]
  },
  {
   "cell_type": "code",
   "execution_count": null,
   "metadata": {},
   "outputs": [
    {
     "name": "stdout",
     "output_type": "stream",
     "text": [
      "<class 'pandas.core.frame.DataFrame'>\n",
      "RangeIndex: 205 entries, 0 to 204\n",
      "Data columns (total 26 columns):\n",
      " #   Column             Non-Null Count  Dtype  \n",
      "---  ------             --------------  -----  \n",
      " 0   symboling          205 non-null    int64  \n",
      " 1   normalized-losses  205 non-null    object \n",
      " 2   make               205 non-null    object \n",
      " 3   fuel-type          205 non-null    object \n",
      " 4   aspiration         205 non-null    object \n",
      " 5   num-of-doors       205 non-null    object \n",
      " 6   body-style         205 non-null    object \n",
      " 7   drive-wheels       205 non-null    object \n",
      " 8   engine-location    205 non-null    object \n",
      " 9   wheel-base         205 non-null    float64\n",
      " 10  length             205 non-null    float64\n",
      " 11  width              205 non-null    float64\n",
      " 12  height             205 non-null    float64\n",
      " 13  curb-weight        205 non-null    int64  \n",
      " 14  engine-type        205 non-null    object \n",
      " 15  num-of-cylinders   205 non-null    object \n",
      " 16  engine-size        205 non-null    int64  \n",
      " 17  fuel-system        205 non-null    object \n",
      " 18  bore               205 non-null    object \n",
      " 19  stroke             205 non-null    object \n",
      " 20  compression-ratio  205 non-null    float64\n",
      " 21  horsepower         205 non-null    object \n",
      " 22  peak-rpm           205 non-null    object \n",
      " 23  city-mpg           205 non-null    int64  \n",
      " 24  highway-mpg        205 non-null    int64  \n",
      " 25  price              205 non-null    object \n",
      "dtypes: float64(5), int64(5), object(16)\n",
      "memory usage: 41.8+ KB\n"
     ]
    }
   ],
   "source": [
    "data_dict = {\n",
    "    'symboling': 'int64',\n",
    "    'normalized-losses': 'float64',\n",
    "    'make': 'category',\n",
    "    'fuel-type': 'category',\n",
    "    'aspiration': 'category',\n",
    "    'num-of-doors': 'category',\n",
    "    'body-style': 'category',\n",
    "    'drive-wheels': 'category',\n",
    "    'engine-location': 'category',\n",
    "    'wheel-base': 'float64',\n",
    "    'length': 'float64',\n",
    "    'width': 'float64',\n",
    "    'height': 'float64',\n",
    "    'curb-weight': 'int64',\n",
    "    'engine-type': 'category',\n",
    "    'num-of-cylinders': 'category',\n",
    "    'engine-size': 'int64',\n",
    "    'fuel-system': 'category',\n",
    "    'bore': 'category',\n",
    "    'stroke': 'category',\n",
    "    'compression-ratio': 'float64',\n",
    "    'horsepower': 'category',\n",
    "    'peak-rpm': 'category',\n",
    "    'city-mpg': 'int64',\n",
    "    'highway-mpg': 'int64',\n",
    "    'price': 'float64',\n",
    "}\n",
    "# Convertir tipos de datos según el diccionario\n",
    "for column, dtype in data_dict.items():\n",
    "    df[column] = df[column].astype(dtype, errors='ignore')\n",
    "df.info()"
   ]
  },
  {
   "cell_type": "markdown",
   "metadata": {},
   "source": [
    "**Detección y tratamiento de valores nulos.**"
   ]
  },
  {
   "cell_type": "code",
   "execution_count": 9,
   "metadata": {},
   "outputs": [
    {
     "data": {
      "text/plain": [
       "array(['?', '164', '158', '192', '188', '121', '98', '81', '118', '148',\n",
       "       '110', '145', '137', '101', '78', '106', '85', '107', '104', '113',\n",
       "       '150', '129', '115', '93', '142', '161', '153', '125', '128',\n",
       "       '122', '103', '168', '108', '194', '231', '119', '154', '74',\n",
       "       '186', '83', '102', '89', '87', '77', '91', '134', '65', '197',\n",
       "       '90', '94', '256', '95'], dtype=object)"
      ]
     },
     "execution_count": 9,
     "metadata": {},
     "output_type": "execute_result"
    }
   ],
   "source": [
    "# La columna normalized-losses debe ser numerico pero figura como Object debido a que tiene ?\n",
    "# Concepto: representa una medida normalizada de las pérdidas asociadas con seguros de automóviles. Se refiere a la cantidad estimada \n",
    "# de dinero perdido debido a siniestros en comparación con el valor del vehículo. Esta métrica ayuda a evaluar el riesgo asociado a \n",
    "# un automóvil en términos de costos de reparación o reemplazo tras un accidente. Los valores más altos indican mayores pérdidas \n",
    "# relativas, mientras que los valores bajos sugieren menores costos en situaciones de siniestro.(chatgpt)\n",
    "df['normalized-losses'].unique()"
   ]
  },
  {
   "cell_type": "code",
   "execution_count": 10,
   "metadata": {},
   "outputs": [
    {
     "data": {
      "text/plain": [
       "array(['alfa-romero', 'audi', 'bmw', 'chevrolet', 'dodge', 'honda',\n",
       "       'isuzu', 'jaguar', 'mazda', 'mercedes-benz', 'mercury',\n",
       "       'mitsubishi', 'nissan', 'peugot', 'plymouth', 'porsche', 'renault',\n",
       "       'saab', 'subaru', 'toyota', 'volkswagen', 'volvo'], dtype=object)"
      ]
     },
     "execution_count": 10,
     "metadata": {},
     "output_type": "execute_result"
    }
   ],
   "source": [
    "df['make'].unique()"
   ]
  },
  {
   "cell_type": "code",
   "execution_count": 11,
   "metadata": {},
   "outputs": [],
   "source": [
    "# Reemplazar '?' por NaN y convertir a tipo numérico\n",
    "df['normalized-losses'] = df['normalized-losses'].replace('?', np.nan).astype(float)"
   ]
  },
  {
   "cell_type": "code",
   "execution_count": 12,
   "metadata": {},
   "outputs": [
    {
     "name": "stdout",
     "output_type": "stream",
     "text": [
      "make\n",
      "audi             161.000000\n",
      "bmw              190.000000\n",
      "chevrolet        100.000000\n",
      "dodge            133.444444\n",
      "honda            103.000000\n",
      "jaguar           145.000000\n",
      "mazda            123.933333\n",
      "mercedes-benz    102.800000\n",
      "mitsubishi       146.200000\n",
      "nissan           135.166667\n",
      "peugot           161.000000\n",
      "plymouth         129.000000\n",
      "porsche          186.000000\n",
      "saab             127.000000\n",
      "subaru            92.250000\n",
      "toyota           110.290323\n",
      "volkswagen       121.250000\n",
      "volvo             91.454545\n",
      "Name: normalized-losses, dtype: float64\n"
     ]
    }
   ],
   "source": [
    "# Filtrar el DataFrame para obtener solo los valores enteros en 'normalized-losses'\n",
    "df_filtrado = df[pd.to_numeric(df['normalized-losses'], errors='coerce').notnull()]\n",
    "\n",
    "# Ver los autos por marca\n",
    "result = df_filtrado.groupby('make')['normalized-losses'].mean()\n",
    "\n",
    "print(result)\n"
   ]
  },
  {
   "cell_type": "code",
   "execution_count": 13,
   "metadata": {},
   "outputs": [
    {
     "name": "stdout",
     "output_type": "stream",
     "text": [
      "['alfa-romero', 'isuzu', 'mercury', 'renault']\n"
     ]
    }
   ],
   "source": [
    "# Obtener todas las marcas únicas\n",
    "marcas_todas = df['make'].unique()\n",
    "\n",
    "# Obtener las marcas que tienen valores en 'normalized-losses'\n",
    "marcas_con_loss = df_filtrado.groupby('make')['normalized-losses'].mean().index\n",
    "\n",
    "# Encontrar las marcas que no están en 'marcas_con_loss'\n",
    "marcas_sin_loss = [marca for marca in marcas_todas if marca not in marcas_con_loss]\n",
    "\n",
    "# Imprimir las marcas que no tienen valores en 'normalized-losses'\n",
    "print(marcas_sin_loss)\n",
    "\n"
   ]
  },
  {
   "cell_type": "code",
   "execution_count": 14,
   "metadata": {},
   "outputs": [
    {
     "data": {
      "image/png": "[encoded data removed]",
      "text/plain": [
       "<Figure size 1000x600 with 1 Axes>"
      ]
     },
     "metadata": {},
     "output_type": "display_data"
    },
    {
     "data": {
      "image/png": "[encoded data removed]",
      "text/plain": [
       "<Figure size 1000x600 with 1 Axes>"
      ]
     },
     "metadata": {},
     "output_type": "display_data"
    },
    {
     "data": {
      "text/html": [
       "<div>\n",
       "<style scoped>\n",
       "    .dataframe tbody tr th:only-of-type {\n",
       "        vertical-align: middle;\n",
       "    }\n",
       "\n",
       "    .dataframe tbody tr th {\n",
       "        vertical-align: top;\n",
       "    }\n",
       "\n",
       "    .dataframe thead th {\n",
       "        text-align: right;\n",
       "    }\n",
       "</style>\n",
       "<table border=\"1\" class=\"dataframe\">\n",
       "  <thead>\n",
       "    <tr style=\"text-align: right;\">\n",
       "      <th></th>\n",
       "      <th>0</th>\n",
       "    </tr>\n",
       "    <tr>\n",
       "      <th>make</th>\n",
       "      <th></th>\n",
       "    </tr>\n",
       "  </thead>\n",
       "  <tbody>\n",
       "    <tr>\n",
       "      <th>saab</th>\n",
       "      <td>1.704609</td>\n",
       "    </tr>\n",
       "    <tr>\n",
       "      <th>volvo</th>\n",
       "      <td>1.989914</td>\n",
       "    </tr>\n",
       "    <tr>\n",
       "      <th>audi</th>\n",
       "      <td>2.069539</td>\n",
       "    </tr>\n",
       "    <tr>\n",
       "      <th>bmw</th>\n",
       "      <td>2.279350</td>\n",
       "    </tr>\n",
       "    <tr>\n",
       "      <th>peugot</th>\n",
       "      <td>2.775010</td>\n",
       "    </tr>\n",
       "  </tbody>\n",
       "</table>\n",
       "</div>"
      ],
      "text/plain": [
       "               0\n",
       "make            \n",
       "saab    1.704609\n",
       "volvo   1.989914\n",
       "audi    2.069539\n",
       "bmw     2.279350\n",
       "peugot  2.775010"
      ]
     },
     "execution_count": 14,
     "metadata": {},
     "output_type": "execute_result"
    }
   ],
   "source": [
    "#Buscamos cual es la marca mas similar a mercury. Salio Volvo\n",
    "buscar_marca_similar(df,'mercury')\n"
   ]
  },
  {
   "cell_type": "code",
   "execution_count": 15,
   "metadata": {},
   "outputs": [
    {
     "name": "stdout",
     "output_type": "stream",
     "text": [
      "La marca saab no tiene valores nulos en 'normalized-losses'.\n"
     ]
    }
   ],
   "source": [
    "# Verificar si una marca específica tiene valores nulos en 'normalized-losses'\n",
    "marca = 'saab'  # Reemplaza 'nombre_marca' por la marca que quieres verificar\n",
    "tiene_nulos(df,marca)\n"
   ]
  },
  {
   "cell_type": "code",
   "execution_count": 16,
   "metadata": {},
   "outputs": [
    {
     "name": "stdout",
     "output_type": "stream",
     "text": [
      "        make  normalized-losses  curb-weight  engine-size horsepower  \\\n",
      "75   mercury                NaN         2910          140        175   \n",
      "132     saab              150.0         2658          121        110   \n",
      "133     saab              104.0         2695          121        110   \n",
      "134     saab              150.0         2707          121        110   \n",
      "135     saab              104.0         2758          121        110   \n",
      "136     saab              150.0         2808          121        160   \n",
      "137     saab              104.0         2847          121        160   \n",
      "\n",
      "     city-mpg  highway-mpg  \n",
      "75         19           24  \n",
      "132        21           28  \n",
      "133        21           28  \n",
      "134        21           28  \n",
      "135        21           28  \n",
      "136        19           26  \n",
      "137        19           26  \n"
     ]
    }
   ],
   "source": [
    "# Filtrar solo saab y Mercury y mostrar solo las columnas relevantes\n",
    "df_saab_mercury = df[df['make'].isin(['saab', 'mercury'])][['make','normalized-losses', 'curb-weight', 'engine-size', 'horsepower', 'city-mpg', 'highway-mpg']]\n",
    "\n",
    "# Mostrar los resultados\n",
    "print(df_saab_mercury)\n"
   ]
  },
  {
   "cell_type": "code",
   "execution_count": 17,
   "metadata": {},
   "outputs": [],
   "source": [
    "# Calcular la media de normalized-losses de saab\n",
    "saab_loss = df[df['make'] == 'saab']['normalized-losses'].mean()\n",
    "\n",
    "# Asignar el valor de la media a los autos de Mercury con valores nulos en normalized-losses\n",
    "df.loc[(df['make'] == 'mercury') & (df['normalized-losses'].isnull()), 'normalized-losses'] = saab_loss\n",
    "\n"
   ]
  },
  {
   "cell_type": "code",
   "execution_count": 18,
   "metadata": {},
   "outputs": [
    {
     "name": "stdout",
     "output_type": "stream",
     "text": [
      "        make  normalized-losses  curb-weight  engine-size horsepower  \\\n",
      "75   mercury              127.0         2910          140        175   \n",
      "132     saab              150.0         2658          121        110   \n",
      "133     saab              104.0         2695          121        110   \n",
      "134     saab              150.0         2707          121        110   \n",
      "135     saab              104.0         2758          121        110   \n",
      "136     saab              150.0         2808          121        160   \n",
      "137     saab              104.0         2847          121        160   \n",
      "\n",
      "     city-mpg  highway-mpg  \n",
      "75         19           24  \n",
      "132        21           28  \n",
      "133        21           28  \n",
      "134        21           28  \n",
      "135        21           28  \n",
      "136        19           26  \n",
      "137        19           26  \n"
     ]
    }
   ],
   "source": [
    "# Filtrar solo Volvo y Mercury y mostrar solo las columnas relevantes\n",
    "df_saab_mercury = df[df['make'].isin(['saab', 'mercury'])][['make','normalized-losses', 'curb-weight', 'engine-size', 'horsepower', 'city-mpg', 'highway-mpg']]\n",
    "\n",
    "# Mostrar los resultados\n",
    "print(df_saab_mercury)"
   ]
  },
  {
   "cell_type": "code",
   "execution_count": 19,
   "metadata": {},
   "outputs": [
    {
     "data": {
      "image/png": "[encoded data removed]",
      "text/plain": [
       "<Figure size 1000x600 with 1 Axes>"
      ]
     },
     "metadata": {},
     "output_type": "display_data"
    },
    {
     "data": {
      "image/png": "[encoded data removed]",
      "text/plain": [
       "<Figure size 1000x600 with 1 Axes>"
      ]
     },
     "metadata": {},
     "output_type": "display_data"
    },
    {
     "data": {
      "text/html": [
       "<div>\n",
       "<style scoped>\n",
       "    .dataframe tbody tr th:only-of-type {\n",
       "        vertical-align: middle;\n",
       "    }\n",
       "\n",
       "    .dataframe tbody tr th {\n",
       "        vertical-align: top;\n",
       "    }\n",
       "\n",
       "    .dataframe thead th {\n",
       "        text-align: right;\n",
       "    }\n",
       "</style>\n",
       "<table border=\"1\" class=\"dataframe\">\n",
       "  <thead>\n",
       "    <tr style=\"text-align: right;\">\n",
       "      <th></th>\n",
       "      <th>0</th>\n",
       "      <th>1</th>\n",
       "      <th>2</th>\n",
       "    </tr>\n",
       "    <tr>\n",
       "      <th>make</th>\n",
       "      <th></th>\n",
       "      <th></th>\n",
       "      <th></th>\n",
       "    </tr>\n",
       "  </thead>\n",
       "  <tbody>\n",
       "    <tr>\n",
       "      <th>mitsubishi</th>\n",
       "      <td>2.644221</td>\n",
       "      <td>2.644221</td>\n",
       "      <td>2.861112</td>\n",
       "    </tr>\n",
       "    <tr>\n",
       "      <th>porsche</th>\n",
       "      <td>2.702891</td>\n",
       "      <td>2.702891</td>\n",
       "      <td>1.763084</td>\n",
       "    </tr>\n",
       "    <tr>\n",
       "      <th>subaru</th>\n",
       "      <td>3.195573</td>\n",
       "      <td>3.195573</td>\n",
       "      <td>2.639362</td>\n",
       "    </tr>\n",
       "    <tr>\n",
       "      <th>dodge</th>\n",
       "      <td>3.355125</td>\n",
       "      <td>3.355125</td>\n",
       "      <td>3.658315</td>\n",
       "    </tr>\n",
       "    <tr>\n",
       "      <th>mazda</th>\n",
       "      <td>3.521099</td>\n",
       "      <td>3.521099</td>\n",
       "      <td>3.139015</td>\n",
       "    </tr>\n",
       "  </tbody>\n",
       "</table>\n",
       "</div>"
      ],
      "text/plain": [
       "                   0         1         2\n",
       "make                                    \n",
       "mitsubishi  2.644221  2.644221  2.861112\n",
       "porsche     2.702891  2.702891  1.763084\n",
       "subaru      3.195573  3.195573  2.639362\n",
       "dodge       3.355125  3.355125  3.658315\n",
       "mazda       3.521099  3.521099  3.139015"
      ]
     },
     "execution_count": 19,
     "metadata": {},
     "output_type": "execute_result"
    }
   ],
   "source": [
    "#['alfa-romero', 'isuzu', 'mercury', 'renault']\n",
    "buscar_marca_similar(df,'alfa-romero')"
   ]
  },
  {
   "cell_type": "code",
   "execution_count": 20,
   "metadata": {},
   "outputs": [
    {
     "name": "stdout",
     "output_type": "stream",
     "text": [
      "La marca mitsubishi SIIIII TIENE VALORES NULOS!!!!! en 'normalized-losses'.\n"
     ]
    }
   ],
   "source": [
    "# Ver si mitsubishi tiene nulos\n",
    "marca='mitsubishi'\n",
    "tiene_nulos(df,marca)"
   ]
  },
  {
   "cell_type": "code",
   "execution_count": 21,
   "metadata": {},
   "outputs": [],
   "source": [
    "# Reemplazar los valores nulos en 'normalized-losses' solo para una marca específica (por ejemplo, 'volvo')\n",
    "marca_especifica = 'mitsubishi'\n",
    "media_marca = df.loc[df['make'] == marca_especifica, 'normalized-losses'].mean()\n",
    "\n",
    "# Imputar valores nulos con la media de la marca específica\n",
    "df.loc[(df['make'] == marca_especifica) & (df['normalized-losses'].isnull()), 'normalized-losses'] = media_marca\n"
   ]
  },
  {
   "cell_type": "code",
   "execution_count": 22,
   "metadata": {},
   "outputs": [
    {
     "name": "stdout",
     "output_type": "stream",
     "text": [
      "La marca mitsubishi no tiene valores nulos en 'normalized-losses'.\n"
     ]
    }
   ],
   "source": [
    "tiene_nulos(df,marca)"
   ]
  },
  {
   "cell_type": "code",
   "execution_count": 23,
   "metadata": {},
   "outputs": [],
   "source": [
    "# Calcular la media de normalized-losses de bmw\n",
    "mitsubishi_loss = df[df['make'] == 'mitsubishi']['normalized-losses'].mean()\n",
    "\n",
    "# Asignar el valor de la media a los autos de alfa-romero con valores nulos en normalized-losses\n",
    "df.loc[(df['make'] == 'alfa-romero') & (df['normalized-losses'].isnull()), 'normalized-losses'] = mitsubishi_loss\n"
   ]
  },
  {
   "cell_type": "code",
   "execution_count": 24,
   "metadata": {},
   "outputs": [
    {
     "name": "stdout",
     "output_type": "stream",
     "text": [
      "           make  normalized-losses  curb-weight  engine-size horsepower  \\\n",
      "0   alfa-romero              146.2         2548          130        111   \n",
      "1   alfa-romero              146.2         2548          130        111   \n",
      "2   alfa-romero              146.2         2823          152        154   \n",
      "76   mitsubishi              161.0         1918           92         68   \n",
      "77   mitsubishi              161.0         1944           92         68   \n",
      "78   mitsubishi              161.0         2004           92         68   \n",
      "79   mitsubishi              161.0         2145           98        102   \n",
      "80   mitsubishi              153.0         2370          110        116   \n",
      "81   mitsubishi              153.0         2328          122         88   \n",
      "82   mitsubishi              146.2         2833          156        145   \n",
      "83   mitsubishi              146.2         2921          156        145   \n",
      "84   mitsubishi              146.2         2926          156        145   \n",
      "85   mitsubishi              125.0         2365          122         88   \n",
      "86   mitsubishi              125.0         2405          122         88   \n",
      "87   mitsubishi              125.0         2403          110        116   \n",
      "88   mitsubishi              137.0         2403          110        116   \n",
      "\n",
      "    city-mpg  highway-mpg  \n",
      "0         21           27  \n",
      "1         21           27  \n",
      "2         19           26  \n",
      "76        37           41  \n",
      "77        31           38  \n",
      "78        31           38  \n",
      "79        24           30  \n",
      "80        23           30  \n",
      "81        25           32  \n",
      "82        19           24  \n",
      "83        19           24  \n",
      "84        19           24  \n",
      "85        25           32  \n",
      "86        25           32  \n",
      "87        23           30  \n",
      "88        23           30  \n"
     ]
    }
   ],
   "source": [
    "# Filtrar solo mitsubishi y Alfa-Romeo y mostrar solo las columnas relevantes\n",
    "df_mitsubishi_alfa_romero = df[df['make'].isin(['mitsubishi', 'alfa-romero'])][['make','normalized-losses', 'curb-weight', 'engine-size', 'horsepower', 'city-mpg', 'highway-mpg']]\n",
    "\n",
    "# Mostrar los resultados\n",
    "print(df_mitsubishi_alfa_romero)"
   ]
  },
  {
   "cell_type": "code",
   "execution_count": 25,
   "metadata": {},
   "outputs": [],
   "source": [
    "#['alfa-romero', 'isuzu', 'mercury', 'renault']"
   ]
  },
  {
   "cell_type": "code",
   "execution_count": 26,
   "metadata": {},
   "outputs": [
    {
     "data": {
      "image/png": "[encoded data removed]",
      "text/plain": [
       "<Figure size 1000x600 with 1 Axes>"
      ]
     },
     "metadata": {},
     "output_type": "display_data"
    },
    {
     "data": {
      "image/png": "[encoded data removed]",
      "text/plain": [
       "<Figure size 1000x600 with 1 Axes>"
      ]
     },
     "metadata": {},
     "output_type": "display_data"
    },
    {
     "data": {
      "text/html": [
       "<div>\n",
       "<style scoped>\n",
       "    .dataframe tbody tr th:only-of-type {\n",
       "        vertical-align: middle;\n",
       "    }\n",
       "\n",
       "    .dataframe tbody tr th {\n",
       "        vertical-align: top;\n",
       "    }\n",
       "\n",
       "    .dataframe thead th {\n",
       "        text-align: right;\n",
       "    }\n",
       "</style>\n",
       "<table border=\"1\" class=\"dataframe\">\n",
       "  <thead>\n",
       "    <tr style=\"text-align: right;\">\n",
       "      <th></th>\n",
       "      <th>0</th>\n",
       "      <th>1</th>\n",
       "      <th>2</th>\n",
       "      <th>3</th>\n",
       "    </tr>\n",
       "    <tr>\n",
       "      <th>make</th>\n",
       "      <th></th>\n",
       "      <th></th>\n",
       "      <th></th>\n",
       "      <th></th>\n",
       "    </tr>\n",
       "  </thead>\n",
       "  <tbody>\n",
       "    <tr>\n",
       "      <th>subaru</th>\n",
       "      <td>2.149071</td>\n",
       "      <td>3.415812</td>\n",
       "      <td>3.396699</td>\n",
       "      <td>1.851546</td>\n",
       "    </tr>\n",
       "    <tr>\n",
       "      <th>bmw</th>\n",
       "      <td>2.567993</td>\n",
       "      <td>4.832671</td>\n",
       "      <td>4.810801</td>\n",
       "      <td>2.043895</td>\n",
       "    </tr>\n",
       "    <tr>\n",
       "      <th>alfa-romero</th>\n",
       "      <td>2.754725</td>\n",
       "      <td>4.860671</td>\n",
       "      <td>4.836317</td>\n",
       "      <td>1.897960</td>\n",
       "    </tr>\n",
       "    <tr>\n",
       "      <th>mitsubishi</th>\n",
       "      <td>2.792286</td>\n",
       "      <td>3.611579</td>\n",
       "      <td>3.592976</td>\n",
       "      <td>1.851375</td>\n",
       "    </tr>\n",
       "    <tr>\n",
       "      <th>honda</th>\n",
       "      <td>2.839442</td>\n",
       "      <td>2.790379</td>\n",
       "      <td>2.781130</td>\n",
       "      <td>2.925854</td>\n",
       "    </tr>\n",
       "  </tbody>\n",
       "</table>\n",
       "</div>"
      ],
      "text/plain": [
       "                    0         1         2         3\n",
       "make                                               \n",
       "subaru       2.149071  3.415812  3.396699  1.851546\n",
       "bmw          2.567993  4.832671  4.810801  2.043895\n",
       "alfa-romero  2.754725  4.860671  4.836317  1.897960\n",
       "mitsubishi   2.792286  3.611579  3.592976  1.851375\n",
       "honda        2.839442  2.790379  2.781130  2.925854"
      ]
     },
     "execution_count": 26,
     "metadata": {},
     "output_type": "execute_result"
    }
   ],
   "source": [
    "buscar_marca_similar(df,'isuzu')"
   ]
  },
  {
   "cell_type": "code",
   "execution_count": 27,
   "metadata": {},
   "outputs": [
    {
     "name": "stdout",
     "output_type": "stream",
     "text": [
      "La marca subaru no tiene valores nulos en 'normalized-losses'.\n"
     ]
    }
   ],
   "source": [
    "marca='subaru'\n",
    "tiene_nulos(df,marca)"
   ]
  },
  {
   "cell_type": "code",
   "execution_count": 28,
   "metadata": {},
   "outputs": [],
   "source": [
    "# Calcular la media de normalized-losses de subaru\n",
    "subaru_loss = df[df['make'] == 'subaru']['normalized-losses'].mean()\n",
    "\n",
    "# Asignar el valor de la media a los autos de isuzu con valores nulos en normalized-losses\n",
    "df.loc[(df['make'] == 'isuzu') & (df['normalized-losses'].isnull()), 'normalized-losses'] = subaru_loss\n"
   ]
  },
  {
   "cell_type": "code",
   "execution_count": 29,
   "metadata": {},
   "outputs": [
    {
     "name": "stdout",
     "output_type": "stream",
     "text": [
      "       make  normalized-losses  curb-weight  engine-size horsepower  city-mpg  \\\n",
      "43    isuzu              92.25         2337          111         78        24   \n",
      "44    isuzu              92.25         1874           90         70        38   \n",
      "45    isuzu              92.25         1909           90         70        38   \n",
      "46    isuzu              92.25         2734          119         90        24   \n",
      "138  subaru              83.00         2050           97         69        31   \n",
      "139  subaru              83.00         2120          108         73        26   \n",
      "140  subaru              83.00         2240          108         73        26   \n",
      "141  subaru             102.00         2145          108         82        32   \n",
      "142  subaru             102.00         2190          108         82        28   \n",
      "143  subaru             102.00         2340          108         94        26   \n",
      "144  subaru             102.00         2385          108         82        24   \n",
      "145  subaru             102.00         2510          108        111        24   \n",
      "146  subaru              89.00         2290          108         82        28   \n",
      "147  subaru              89.00         2455          108         94        25   \n",
      "148  subaru              85.00         2420          108         82        23   \n",
      "149  subaru              85.00         2650          108        111        23   \n",
      "\n",
      "     highway-mpg  \n",
      "43            29  \n",
      "44            43  \n",
      "45            43  \n",
      "46            29  \n",
      "138           36  \n",
      "139           31  \n",
      "140           31  \n",
      "141           37  \n",
      "142           33  \n",
      "143           32  \n",
      "144           25  \n",
      "145           29  \n",
      "146           32  \n",
      "147           31  \n",
      "148           29  \n",
      "149           23  \n"
     ]
    }
   ],
   "source": [
    "# Filtrar solo subaru e isuzu y mostrar solo las columnas relevantes\n",
    "df_subaru_isuzu = df[df['make'].isin(['subaru', 'isuzu'])][['make','normalized-losses', 'curb-weight', 'engine-size', 'horsepower', 'city-mpg', 'highway-mpg']]\n",
    "\n",
    "# Mostrar los resultados\n",
    "print(df_subaru_isuzu)"
   ]
  },
  {
   "cell_type": "code",
   "execution_count": 38,
   "metadata": {},
   "outputs": [
    {
     "data": {
      "image/png": "[encoded data removed]",
      "text/plain": [
       "<Figure size 1000x600 with 1 Axes>"
      ]
     },
     "metadata": {},
     "output_type": "display_data"
    },
    {
     "data": {
      "image/png": "[encoded data removed]",
      "text/plain": [
       "<Figure size 1000x600 with 1 Axes>"
      ]
     },
     "metadata": {},
     "output_type": "display_data"
    },
    {
     "data": {
      "text/html": [
       "<div>\n",
       "<style scoped>\n",
       "    .dataframe tbody tr th:only-of-type {\n",
       "        vertical-align: middle;\n",
       "    }\n",
       "\n",
       "    .dataframe tbody tr th {\n",
       "        vertical-align: top;\n",
       "    }\n",
       "\n",
       "    .dataframe thead th {\n",
       "        text-align: right;\n",
       "    }\n",
       "</style>\n",
       "<table border=\"1\" class=\"dataframe\">\n",
       "  <thead>\n",
       "    <tr style=\"text-align: right;\">\n",
       "      <th></th>\n",
       "      <th>0</th>\n",
       "      <th>1</th>\n",
       "    </tr>\n",
       "    <tr>\n",
       "      <th>make</th>\n",
       "      <th></th>\n",
       "      <th></th>\n",
       "    </tr>\n",
       "  </thead>\n",
       "  <tbody>\n",
       "    <tr>\n",
       "      <th>saab</th>\n",
       "      <td>1.192592</td>\n",
       "      <td>2.775456</td>\n",
       "    </tr>\n",
       "    <tr>\n",
       "      <th>subaru</th>\n",
       "      <td>2.076494</td>\n",
       "      <td>2.244735</td>\n",
       "    </tr>\n",
       "    <tr>\n",
       "      <th>mercury</th>\n",
       "      <td>2.079831</td>\n",
       "      <td>2.808947</td>\n",
       "    </tr>\n",
       "    <tr>\n",
       "      <th>audi</th>\n",
       "      <td>2.449312</td>\n",
       "      <td>3.016210</td>\n",
       "    </tr>\n",
       "    <tr>\n",
       "      <th>mazda</th>\n",
       "      <td>2.498944</td>\n",
       "      <td>2.613598</td>\n",
       "    </tr>\n",
       "  </tbody>\n",
       "</table>\n",
       "</div>"
      ],
      "text/plain": [
       "                0         1\n",
       "make                       \n",
       "saab     1.192592  2.775456\n",
       "subaru   2.076494  2.244735\n",
       "mercury  2.079831  2.808947\n",
       "audi     2.449312  3.016210\n",
       "mazda    2.498944  2.613598"
      ]
     },
     "execution_count": 38,
     "metadata": {},
     "output_type": "execute_result"
    }
   ],
   "source": [
    "# renault\n",
    "buscar_marca_similar(df,'renault')"
   ]
  },
  {
   "cell_type": "code",
   "execution_count": 39,
   "metadata": {},
   "outputs": [
    {
     "name": "stdout",
     "output_type": "stream",
     "text": [
      "La marca saab no tiene valores nulos en 'normalized-losses'.\n"
     ]
    }
   ],
   "source": [
    "marca='saab'\n",
    "tiene_nulos(df,marca)"
   ]
  },
  {
   "cell_type": "code",
   "execution_count": 40,
   "metadata": {},
   "outputs": [],
   "source": [
    "# Calcular la media de normalized-losses de saab\n",
    "saab_loss = df[df['make'] == 'saab']['normalized-losses'].mean()\n",
    "\n",
    "# Asignar el valor de la media a los autos de renault con valores nulos en normalized-losses\n",
    "df.loc[(df['make'] == 'renault') & (df['normalized-losses'].isnull()), 'normalized-losses'] = saab_loss\n"
   ]
  },
  {
   "cell_type": "code",
   "execution_count": 41,
   "metadata": {},
   "outputs": [
    {
     "name": "stdout",
     "output_type": "stream",
     "text": [
      "        make  normalized-losses  curb-weight  engine-size horsepower  \\\n",
      "130  renault              127.0         2579          132          ?   \n",
      "131  renault              127.0         2460          132          ?   \n",
      "132     saab              150.0         2658          121        110   \n",
      "133     saab              104.0         2695          121        110   \n",
      "134     saab              150.0         2707          121        110   \n",
      "135     saab              104.0         2758          121        110   \n",
      "136     saab              150.0         2808          121        160   \n",
      "137     saab              104.0         2847          121        160   \n",
      "\n",
      "     city-mpg  highway-mpg  \n",
      "130        23           31  \n",
      "131        23           31  \n",
      "132        21           28  \n",
      "133        21           28  \n",
      "134        21           28  \n",
      "135        21           28  \n",
      "136        19           26  \n",
      "137        19           26  \n"
     ]
    }
   ],
   "source": [
    "# Filtrar solo subaru e saab y renault mostrar solo las columnas relevantes\n",
    "df_saab_renault = df[df['make'].isin(['saab', 'renault'])][['make','normalized-losses', 'curb-weight', 'engine-size', 'horsepower', 'city-mpg', 'highway-mpg']]\n",
    "\n",
    "# Mostrar los resultados\n",
    "print(df_saab_renault)"
   ]
  },
  {
   "cell_type": "code",
   "execution_count": 43,
   "metadata": {},
   "outputs": [
    {
     "data": {
      "text/html": [
       "<div>\n",
       "<style scoped>\n",
       "    .dataframe tbody tr th:only-of-type {\n",
       "        vertical-align: middle;\n",
       "    }\n",
       "\n",
       "    .dataframe tbody tr th {\n",
       "        vertical-align: top;\n",
       "    }\n",
       "\n",
       "    .dataframe thead th {\n",
       "        text-align: right;\n",
       "    }\n",
       "</style>\n",
       "<table border=\"1\" class=\"dataframe\">\n",
       "  <thead>\n",
       "    <tr style=\"text-align: right;\">\n",
       "      <th></th>\n",
       "      <th>datos sin NAs en q</th>\n",
       "      <th>Na en q</th>\n",
       "      <th>Na en %</th>\n",
       "    </tr>\n",
       "  </thead>\n",
       "  <tbody>\n",
       "    <tr>\n",
       "      <th>normalized-losses</th>\n",
       "      <td>185</td>\n",
       "      <td>20</td>\n",
       "      <td>9.76</td>\n",
       "    </tr>\n",
       "    <tr>\n",
       "      <th>symboling</th>\n",
       "      <td>205</td>\n",
       "      <td>0</td>\n",
       "      <td>0.00</td>\n",
       "    </tr>\n",
       "    <tr>\n",
       "      <th>make</th>\n",
       "      <td>205</td>\n",
       "      <td>0</td>\n",
       "      <td>0.00</td>\n",
       "    </tr>\n",
       "    <tr>\n",
       "      <th>fuel-type</th>\n",
       "      <td>205</td>\n",
       "      <td>0</td>\n",
       "      <td>0.00</td>\n",
       "    </tr>\n",
       "    <tr>\n",
       "      <th>aspiration</th>\n",
       "      <td>205</td>\n",
       "      <td>0</td>\n",
       "      <td>0.00</td>\n",
       "    </tr>\n",
       "    <tr>\n",
       "      <th>num-of-doors</th>\n",
       "      <td>205</td>\n",
       "      <td>0</td>\n",
       "      <td>0.00</td>\n",
       "    </tr>\n",
       "    <tr>\n",
       "      <th>body-style</th>\n",
       "      <td>205</td>\n",
       "      <td>0</td>\n",
       "      <td>0.00</td>\n",
       "    </tr>\n",
       "    <tr>\n",
       "      <th>drive-wheels</th>\n",
       "      <td>205</td>\n",
       "      <td>0</td>\n",
       "      <td>0.00</td>\n",
       "    </tr>\n",
       "    <tr>\n",
       "      <th>engine-location</th>\n",
       "      <td>205</td>\n",
       "      <td>0</td>\n",
       "      <td>0.00</td>\n",
       "    </tr>\n",
       "    <tr>\n",
       "      <th>wheel-base</th>\n",
       "      <td>205</td>\n",
       "      <td>0</td>\n",
       "      <td>0.00</td>\n",
       "    </tr>\n",
       "    <tr>\n",
       "      <th>length</th>\n",
       "      <td>205</td>\n",
       "      <td>0</td>\n",
       "      <td>0.00</td>\n",
       "    </tr>\n",
       "    <tr>\n",
       "      <th>width</th>\n",
       "      <td>205</td>\n",
       "      <td>0</td>\n",
       "      <td>0.00</td>\n",
       "    </tr>\n",
       "    <tr>\n",
       "      <th>height</th>\n",
       "      <td>205</td>\n",
       "      <td>0</td>\n",
       "      <td>0.00</td>\n",
       "    </tr>\n",
       "    <tr>\n",
       "      <th>curb-weight</th>\n",
       "      <td>205</td>\n",
       "      <td>0</td>\n",
       "      <td>0.00</td>\n",
       "    </tr>\n",
       "    <tr>\n",
       "      <th>engine-type</th>\n",
       "      <td>205</td>\n",
       "      <td>0</td>\n",
       "      <td>0.00</td>\n",
       "    </tr>\n",
       "    <tr>\n",
       "      <th>num-of-cylinders</th>\n",
       "      <td>205</td>\n",
       "      <td>0</td>\n",
       "      <td>0.00</td>\n",
       "    </tr>\n",
       "    <tr>\n",
       "      <th>engine-size</th>\n",
       "      <td>205</td>\n",
       "      <td>0</td>\n",
       "      <td>0.00</td>\n",
       "    </tr>\n",
       "    <tr>\n",
       "      <th>fuel-system</th>\n",
       "      <td>205</td>\n",
       "      <td>0</td>\n",
       "      <td>0.00</td>\n",
       "    </tr>\n",
       "    <tr>\n",
       "      <th>bore</th>\n",
       "      <td>205</td>\n",
       "      <td>0</td>\n",
       "      <td>0.00</td>\n",
       "    </tr>\n",
       "    <tr>\n",
       "      <th>stroke</th>\n",
       "      <td>205</td>\n",
       "      <td>0</td>\n",
       "      <td>0.00</td>\n",
       "    </tr>\n",
       "    <tr>\n",
       "      <th>compression-ratio</th>\n",
       "      <td>205</td>\n",
       "      <td>0</td>\n",
       "      <td>0.00</td>\n",
       "    </tr>\n",
       "    <tr>\n",
       "      <th>horsepower</th>\n",
       "      <td>205</td>\n",
       "      <td>0</td>\n",
       "      <td>0.00</td>\n",
       "    </tr>\n",
       "    <tr>\n",
       "      <th>peak-rpm</th>\n",
       "      <td>205</td>\n",
       "      <td>0</td>\n",
       "      <td>0.00</td>\n",
       "    </tr>\n",
       "    <tr>\n",
       "      <th>city-mpg</th>\n",
       "      <td>205</td>\n",
       "      <td>0</td>\n",
       "      <td>0.00</td>\n",
       "    </tr>\n",
       "    <tr>\n",
       "      <th>highway-mpg</th>\n",
       "      <td>205</td>\n",
       "      <td>0</td>\n",
       "      <td>0.00</td>\n",
       "    </tr>\n",
       "    <tr>\n",
       "      <th>price</th>\n",
       "      <td>205</td>\n",
       "      <td>0</td>\n",
       "      <td>0.00</td>\n",
       "    </tr>\n",
       "  </tbody>\n",
       "</table>\n",
       "</div>"
      ],
      "text/plain": [
       "                   datos sin NAs en q  Na en q  Na en %\n",
       "normalized-losses                 185       20     9.76\n",
       "symboling                         205        0     0.00\n",
       "make                              205        0     0.00\n",
       "fuel-type                         205        0     0.00\n",
       "aspiration                        205        0     0.00\n",
       "num-of-doors                      205        0     0.00\n",
       "body-style                        205        0     0.00\n",
       "drive-wheels                      205        0     0.00\n",
       "engine-location                   205        0     0.00\n",
       "wheel-base                        205        0     0.00\n",
       "length                            205        0     0.00\n",
       "width                             205        0     0.00\n",
       "height                            205        0     0.00\n",
       "curb-weight                       205        0     0.00\n",
       "engine-type                       205        0     0.00\n",
       "num-of-cylinders                  205        0     0.00\n",
       "engine-size                       205        0     0.00\n",
       "fuel-system                       205        0     0.00\n",
       "bore                              205        0     0.00\n",
       "stroke                            205        0     0.00\n",
       "compression-ratio                 205        0     0.00\n",
       "horsepower                        205        0     0.00\n",
       "peak-rpm                          205        0     0.00\n",
       "city-mpg                          205        0     0.00\n",
       "highway-mpg                       205        0     0.00\n",
       "price                             205        0     0.00"
      ]
     },
     "execution_count": 43,
     "metadata": {},
     "output_type": "execute_result"
    }
   ],
   "source": [
    "ver_resumen_nulos(df)"
   ]
  },
  {
   "cell_type": "code",
   "execution_count": 44,
   "metadata": {},
   "outputs": [
    {
     "name": "stdout",
     "output_type": "stream",
     "text": [
      "['audi' 'jaguar' 'mazda' 'mercedes-benz' 'peugot' 'plymouth' 'porsche'\n",
      " 'toyota' 'volkswagen']\n"
     ]
    }
   ],
   "source": [
    "marcas_con_nulos = df[df['normalized-losses'].isnull()]['make'].unique()\n",
    "print(marcas_con_nulos)\n"
   ]
  },
  {
   "cell_type": "code",
   "execution_count": 45,
   "metadata": {},
   "outputs": [],
   "source": [
    "# Para cada marca con valores nulos, aplicar la media de esa marca\n",
    "for marca in marcas_con_nulos:\n",
    "    media_marca = df[df['make'] == marca]['normalized-losses'].mean()\n",
    "    df.loc[(df['make'] == marca) & (df['normalized-losses'].isnull()), 'normalized-losses'] = media_marca\n"
   ]
  },
  {
   "cell_type": "code",
   "execution_count": 46,
   "metadata": {},
   "outputs": [
    {
     "data": {
      "text/html": [
       "<div>\n",
       "<style scoped>\n",
       "    .dataframe tbody tr th:only-of-type {\n",
       "        vertical-align: middle;\n",
       "    }\n",
       "\n",
       "    .dataframe tbody tr th {\n",
       "        vertical-align: top;\n",
       "    }\n",
       "\n",
       "    .dataframe thead th {\n",
       "        text-align: right;\n",
       "    }\n",
       "</style>\n",
       "<table border=\"1\" class=\"dataframe\">\n",
       "  <thead>\n",
       "    <tr style=\"text-align: right;\">\n",
       "      <th></th>\n",
       "      <th>datos sin NAs en q</th>\n",
       "      <th>Na en q</th>\n",
       "      <th>Na en %</th>\n",
       "    </tr>\n",
       "  </thead>\n",
       "  <tbody>\n",
       "    <tr>\n",
       "      <th>symboling</th>\n",
       "      <td>205</td>\n",
       "      <td>0</td>\n",
       "      <td>0.0</td>\n",
       "    </tr>\n",
       "    <tr>\n",
       "      <th>normalized-losses</th>\n",
       "      <td>205</td>\n",
       "      <td>0</td>\n",
       "      <td>0.0</td>\n",
       "    </tr>\n",
       "    <tr>\n",
       "      <th>make</th>\n",
       "      <td>205</td>\n",
       "      <td>0</td>\n",
       "      <td>0.0</td>\n",
       "    </tr>\n",
       "    <tr>\n",
       "      <th>fuel-type</th>\n",
       "      <td>205</td>\n",
       "      <td>0</td>\n",
       "      <td>0.0</td>\n",
       "    </tr>\n",
       "    <tr>\n",
       "      <th>aspiration</th>\n",
       "      <td>205</td>\n",
       "      <td>0</td>\n",
       "      <td>0.0</td>\n",
       "    </tr>\n",
       "    <tr>\n",
       "      <th>num-of-doors</th>\n",
       "      <td>205</td>\n",
       "      <td>0</td>\n",
       "      <td>0.0</td>\n",
       "    </tr>\n",
       "    <tr>\n",
       "      <th>body-style</th>\n",
       "      <td>205</td>\n",
       "      <td>0</td>\n",
       "      <td>0.0</td>\n",
       "    </tr>\n",
       "    <tr>\n",
       "      <th>drive-wheels</th>\n",
       "      <td>205</td>\n",
       "      <td>0</td>\n",
       "      <td>0.0</td>\n",
       "    </tr>\n",
       "    <tr>\n",
       "      <th>engine-location</th>\n",
       "      <td>205</td>\n",
       "      <td>0</td>\n",
       "      <td>0.0</td>\n",
       "    </tr>\n",
       "    <tr>\n",
       "      <th>wheel-base</th>\n",
       "      <td>205</td>\n",
       "      <td>0</td>\n",
       "      <td>0.0</td>\n",
       "    </tr>\n",
       "    <tr>\n",
       "      <th>length</th>\n",
       "      <td>205</td>\n",
       "      <td>0</td>\n",
       "      <td>0.0</td>\n",
       "    </tr>\n",
       "    <tr>\n",
       "      <th>width</th>\n",
       "      <td>205</td>\n",
       "      <td>0</td>\n",
       "      <td>0.0</td>\n",
       "    </tr>\n",
       "    <tr>\n",
       "      <th>height</th>\n",
       "      <td>205</td>\n",
       "      <td>0</td>\n",
       "      <td>0.0</td>\n",
       "    </tr>\n",
       "    <tr>\n",
       "      <th>curb-weight</th>\n",
       "      <td>205</td>\n",
       "      <td>0</td>\n",
       "      <td>0.0</td>\n",
       "    </tr>\n",
       "    <tr>\n",
       "      <th>engine-type</th>\n",
       "      <td>205</td>\n",
       "      <td>0</td>\n",
       "      <td>0.0</td>\n",
       "    </tr>\n",
       "    <tr>\n",
       "      <th>num-of-cylinders</th>\n",
       "      <td>205</td>\n",
       "      <td>0</td>\n",
       "      <td>0.0</td>\n",
       "    </tr>\n",
       "    <tr>\n",
       "      <th>engine-size</th>\n",
       "      <td>205</td>\n",
       "      <td>0</td>\n",
       "      <td>0.0</td>\n",
       "    </tr>\n",
       "    <tr>\n",
       "      <th>fuel-system</th>\n",
       "      <td>205</td>\n",
       "      <td>0</td>\n",
       "      <td>0.0</td>\n",
       "    </tr>\n",
       "    <tr>\n",
       "      <th>bore</th>\n",
       "      <td>205</td>\n",
       "      <td>0</td>\n",
       "      <td>0.0</td>\n",
       "    </tr>\n",
       "    <tr>\n",
       "      <th>stroke</th>\n",
       "      <td>205</td>\n",
       "      <td>0</td>\n",
       "      <td>0.0</td>\n",
       "    </tr>\n",
       "    <tr>\n",
       "      <th>compression-ratio</th>\n",
       "      <td>205</td>\n",
       "      <td>0</td>\n",
       "      <td>0.0</td>\n",
       "    </tr>\n",
       "    <tr>\n",
       "      <th>horsepower</th>\n",
       "      <td>205</td>\n",
       "      <td>0</td>\n",
       "      <td>0.0</td>\n",
       "    </tr>\n",
       "    <tr>\n",
       "      <th>peak-rpm</th>\n",
       "      <td>205</td>\n",
       "      <td>0</td>\n",
       "      <td>0.0</td>\n",
       "    </tr>\n",
       "    <tr>\n",
       "      <th>city-mpg</th>\n",
       "      <td>205</td>\n",
       "      <td>0</td>\n",
       "      <td>0.0</td>\n",
       "    </tr>\n",
       "    <tr>\n",
       "      <th>highway-mpg</th>\n",
       "      <td>205</td>\n",
       "      <td>0</td>\n",
       "      <td>0.0</td>\n",
       "    </tr>\n",
       "    <tr>\n",
       "      <th>price</th>\n",
       "      <td>205</td>\n",
       "      <td>0</td>\n",
       "      <td>0.0</td>\n",
       "    </tr>\n",
       "  </tbody>\n",
       "</table>\n",
       "</div>"
      ],
      "text/plain": [
       "                   datos sin NAs en q  Na en q  Na en %\n",
       "symboling                         205        0      0.0\n",
       "normalized-losses                 205        0      0.0\n",
       "make                              205        0      0.0\n",
       "fuel-type                         205        0      0.0\n",
       "aspiration                        205        0      0.0\n",
       "num-of-doors                      205        0      0.0\n",
       "body-style                        205        0      0.0\n",
       "drive-wheels                      205        0      0.0\n",
       "engine-location                   205        0      0.0\n",
       "wheel-base                        205        0      0.0\n",
       "length                            205        0      0.0\n",
       "width                             205        0      0.0\n",
       "height                            205        0      0.0\n",
       "curb-weight                       205        0      0.0\n",
       "engine-type                       205        0      0.0\n",
       "num-of-cylinders                  205        0      0.0\n",
       "engine-size                       205        0      0.0\n",
       "fuel-system                       205        0      0.0\n",
       "bore                              205        0      0.0\n",
       "stroke                            205        0      0.0\n",
       "compression-ratio                 205        0      0.0\n",
       "horsepower                        205        0      0.0\n",
       "peak-rpm                          205        0      0.0\n",
       "city-mpg                          205        0      0.0\n",
       "highway-mpg                       205        0      0.0\n",
       "price                             205        0      0.0"
      ]
     },
     "execution_count": 46,
     "metadata": {},
     "output_type": "execute_result"
    }
   ],
   "source": [
    "ver_resumen_nulos(df)"
   ]
  },
  {
   "cell_type": "code",
   "execution_count": 47,
   "metadata": {},
   "outputs": [
    {
     "data": {
      "text/plain": [
       "array(['13495', '16500', '13950', '17450', '15250', '17710', '18920',\n",
       "       '23875', '?', '16430', '16925', '20970', '21105', '24565', '30760',\n",
       "       '41315', '36880', '5151', '6295', '6575', '5572', '6377', '7957',\n",
       "       '6229', '6692', '7609', '8558', '8921', '12964', '6479', '6855',\n",
       "       '5399', '6529', '7129', '7295', '7895', '9095', '8845', '10295',\n",
       "       '12945', '10345', '6785', '11048', '32250', '35550', '36000',\n",
       "       '5195', '6095', '6795', '6695', '7395', '10945', '11845', '13645',\n",
       "       '15645', '8495', '10595', '10245', '10795', '11245', '18280',\n",
       "       '18344', '25552', '28248', '28176', '31600', '34184', '35056',\n",
       "       '40960', '45400', '16503', '5389', '6189', '6669', '7689', '9959',\n",
       "       '8499', '12629', '14869', '14489', '6989', '8189', '9279', '5499',\n",
       "       '7099', '6649', '6849', '7349', '7299', '7799', '7499', '7999',\n",
       "       '8249', '8949', '9549', '13499', '14399', '17199', '19699',\n",
       "       '18399', '11900', '13200', '12440', '13860', '15580', '16900',\n",
       "       '16695', '17075', '16630', '17950', '18150', '12764', '22018',\n",
       "       '32528', '34028', '37028', '9295', '9895', '11850', '12170',\n",
       "       '15040', '15510', '18620', '5118', '7053', '7603', '7126', '7775',\n",
       "       '9960', '9233', '11259', '7463', '10198', '8013', '11694', '5348',\n",
       "       '6338', '6488', '6918', '7898', '8778', '6938', '7198', '7788',\n",
       "       '7738', '8358', '9258', '8058', '8238', '9298', '9538', '8449',\n",
       "       '9639', '9989', '11199', '11549', '17669', '8948', '10698', '9988',\n",
       "       '10898', '11248', '16558', '15998', '15690', '15750', '7975',\n",
       "       '7995', '8195', '9495', '9995', '11595', '9980', '13295', '13845',\n",
       "       '12290', '12940', '13415', '15985', '16515', '18420', '18950',\n",
       "       '16845', '19045', '21485', '22470', '22625'], dtype=object)"
      ]
     },
     "execution_count": 47,
     "metadata": {},
     "output_type": "execute_result"
    }
   ],
   "source": [
    "# La columna price debe ser numerico pero figura como Object debido a que tiene ?\n",
    "# Concepto: representa una medida normalizada de las pérdidas asociadas con seguros de automóviles. Se refiere a la cantidad estimada \n",
    "# de dinero perdido debido a siniestros en comparación con el valor del vehículo. Esta métrica ayuda a evaluar el riesgo asociado a \n",
    "# un automóvil en términos de costos de reparación o reemplazo tras un accidente. Los valores más altos indican mayores pérdidas \n",
    "# relativas, mientras que los valores bajos sugieren menores costos en situaciones de siniestro.(chatgpt)\n",
    "df['price'].unique()"
   ]
  },
  {
   "cell_type": "code",
   "execution_count": 49,
   "metadata": {},
   "outputs": [
    {
     "data": {
      "text/html": [
       "<div>\n",
       "<style scoped>\n",
       "    .dataframe tbody tr th:only-of-type {\n",
       "        vertical-align: middle;\n",
       "    }\n",
       "\n",
       "    .dataframe tbody tr th {\n",
       "        vertical-align: top;\n",
       "    }\n",
       "\n",
       "    .dataframe thead th {\n",
       "        text-align: right;\n",
       "    }\n",
       "</style>\n",
       "<table border=\"1\" class=\"dataframe\">\n",
       "  <thead>\n",
       "    <tr style=\"text-align: right;\">\n",
       "      <th></th>\n",
       "      <th>symboling</th>\n",
       "      <th>normalized-losses</th>\n",
       "      <th>make</th>\n",
       "      <th>fuel-type</th>\n",
       "      <th>aspiration</th>\n",
       "      <th>num-of-doors</th>\n",
       "      <th>body-style</th>\n",
       "      <th>drive-wheels</th>\n",
       "      <th>engine-location</th>\n",
       "      <th>wheel-base</th>\n",
       "      <th>...</th>\n",
       "      <th>engine-size</th>\n",
       "      <th>fuel-system</th>\n",
       "      <th>bore</th>\n",
       "      <th>stroke</th>\n",
       "      <th>compression-ratio</th>\n",
       "      <th>horsepower</th>\n",
       "      <th>peak-rpm</th>\n",
       "      <th>city-mpg</th>\n",
       "      <th>highway-mpg</th>\n",
       "      <th>price</th>\n",
       "    </tr>\n",
       "  </thead>\n",
       "  <tbody>\n",
       "    <tr>\n",
       "      <th>9</th>\n",
       "      <td>0</td>\n",
       "      <td>160.80</td>\n",
       "      <td>audi</td>\n",
       "      <td>gas</td>\n",
       "      <td>turbo</td>\n",
       "      <td>two</td>\n",
       "      <td>hatchback</td>\n",
       "      <td>4wd</td>\n",
       "      <td>front</td>\n",
       "      <td>99.5</td>\n",
       "      <td>...</td>\n",
       "      <td>131</td>\n",
       "      <td>mpfi</td>\n",
       "      <td>3.13</td>\n",
       "      <td>3.4</td>\n",
       "      <td>7.0</td>\n",
       "      <td>160</td>\n",
       "      <td>5500</td>\n",
       "      <td>16</td>\n",
       "      <td>22</td>\n",
       "      <td>?</td>\n",
       "    </tr>\n",
       "    <tr>\n",
       "      <th>44</th>\n",
       "      <td>1</td>\n",
       "      <td>92.25</td>\n",
       "      <td>isuzu</td>\n",
       "      <td>gas</td>\n",
       "      <td>std</td>\n",
       "      <td>two</td>\n",
       "      <td>sedan</td>\n",
       "      <td>fwd</td>\n",
       "      <td>front</td>\n",
       "      <td>94.5</td>\n",
       "      <td>...</td>\n",
       "      <td>90</td>\n",
       "      <td>2bbl</td>\n",
       "      <td>3.03</td>\n",
       "      <td>3.11</td>\n",
       "      <td>9.6</td>\n",
       "      <td>70</td>\n",
       "      <td>5400</td>\n",
       "      <td>38</td>\n",
       "      <td>43</td>\n",
       "      <td>?</td>\n",
       "    </tr>\n",
       "    <tr>\n",
       "      <th>45</th>\n",
       "      <td>0</td>\n",
       "      <td>92.25</td>\n",
       "      <td>isuzu</td>\n",
       "      <td>gas</td>\n",
       "      <td>std</td>\n",
       "      <td>four</td>\n",
       "      <td>sedan</td>\n",
       "      <td>fwd</td>\n",
       "      <td>front</td>\n",
       "      <td>94.5</td>\n",
       "      <td>...</td>\n",
       "      <td>90</td>\n",
       "      <td>2bbl</td>\n",
       "      <td>3.03</td>\n",
       "      <td>3.11</td>\n",
       "      <td>9.6</td>\n",
       "      <td>70</td>\n",
       "      <td>5400</td>\n",
       "      <td>38</td>\n",
       "      <td>43</td>\n",
       "      <td>?</td>\n",
       "    </tr>\n",
       "    <tr>\n",
       "      <th>129</th>\n",
       "      <td>1</td>\n",
       "      <td>186.00</td>\n",
       "      <td>porsche</td>\n",
       "      <td>gas</td>\n",
       "      <td>std</td>\n",
       "      <td>two</td>\n",
       "      <td>hatchback</td>\n",
       "      <td>rwd</td>\n",
       "      <td>front</td>\n",
       "      <td>98.4</td>\n",
       "      <td>...</td>\n",
       "      <td>203</td>\n",
       "      <td>mpfi</td>\n",
       "      <td>3.94</td>\n",
       "      <td>3.11</td>\n",
       "      <td>10.0</td>\n",
       "      <td>288</td>\n",
       "      <td>5750</td>\n",
       "      <td>17</td>\n",
       "      <td>28</td>\n",
       "      <td>?</td>\n",
       "    </tr>\n",
       "  </tbody>\n",
       "</table>\n",
       "<p>4 rows × 26 columns</p>\n",
       "</div>"
      ],
      "text/plain": [
       "     symboling  normalized-losses     make fuel-type aspiration num-of-doors  \\\n",
       "9            0             160.80     audi       gas      turbo          two   \n",
       "44           1              92.25    isuzu       gas        std          two   \n",
       "45           0              92.25    isuzu       gas        std         four   \n",
       "129          1             186.00  porsche       gas        std          two   \n",
       "\n",
       "    body-style drive-wheels engine-location  wheel-base  ...  engine-size  \\\n",
       "9    hatchback          4wd           front        99.5  ...          131   \n",
       "44       sedan          fwd           front        94.5  ...           90   \n",
       "45       sedan          fwd           front        94.5  ...           90   \n",
       "129  hatchback          rwd           front        98.4  ...          203   \n",
       "\n",
       "     fuel-system  bore  stroke compression-ratio horsepower  peak-rpm  \\\n",
       "9           mpfi  3.13     3.4               7.0        160      5500   \n",
       "44          2bbl  3.03    3.11               9.6         70      5400   \n",
       "45          2bbl  3.03    3.11               9.6         70      5400   \n",
       "129         mpfi  3.94    3.11              10.0        288      5750   \n",
       "\n",
       "    city-mpg highway-mpg price  \n",
       "9         16          22     ?  \n",
       "44        38          43     ?  \n",
       "45        38          43     ?  \n",
       "129       17          28     ?  \n",
       "\n",
       "[4 rows x 26 columns]"
      ]
     },
     "execution_count": 49,
     "metadata": {},
     "output_type": "execute_result"
    }
   ],
   "source": [
    "df[df['price']=='?']"
   ]
  },
  {
   "cell_type": "code",
   "execution_count": 51,
   "metadata": {},
   "outputs": [],
   "source": [
    "# Convertir la columna 'price' a float64, convirtiendo los no numéricos en NaN\n",
    "df['price'] = pd.to_numeric(df['price'], errors='coerce')\n"
   ]
  },
  {
   "cell_type": "code",
   "execution_count": null,
   "metadata": {},
   "outputs": [
    {
     "data": {
      "text/html": [
       "<div>\n",
       "<style scoped>\n",
       "    .dataframe tbody tr th:only-of-type {\n",
       "        vertical-align: middle;\n",
       "    }\n",
       "\n",
       "    .dataframe tbody tr th {\n",
       "        vertical-align: top;\n",
       "    }\n",
       "\n",
       "    .dataframe thead th {\n",
       "        text-align: right;\n",
       "    }\n",
       "</style>\n",
       "<table border=\"1\" class=\"dataframe\">\n",
       "  <thead>\n",
       "    <tr style=\"text-align: right;\">\n",
       "      <th></th>\n",
       "      <th>make</th>\n",
       "      <th>normalized-losses</th>\n",
       "      <th>curb-weight</th>\n",
       "      <th>engine-size</th>\n",
       "      <th>horsepower</th>\n",
       "      <th>city-mpg</th>\n",
       "      <th>highway-mpg</th>\n",
       "    </tr>\n",
       "  </thead>\n",
       "  <tbody>\n",
       "    <tr>\n",
       "      <th>44</th>\n",
       "      <td>isuzu</td>\n",
       "      <td>92.25</td>\n",
       "      <td>1874</td>\n",
       "      <td>90</td>\n",
       "      <td>70</td>\n",
       "      <td>38</td>\n",
       "      <td>43</td>\n",
       "    </tr>\n",
       "    <tr>\n",
       "      <th>45</th>\n",
       "      <td>isuzu</td>\n",
       "      <td>92.25</td>\n",
       "      <td>1909</td>\n",
       "      <td>90</td>\n",
       "      <td>70</td>\n",
       "      <td>38</td>\n",
       "      <td>43</td>\n",
       "    </tr>\n",
       "    <tr>\n",
       "      <th>129</th>\n",
       "      <td>porsche</td>\n",
       "      <td>186.00</td>\n",
       "      <td>3366</td>\n",
       "      <td>203</td>\n",
       "      <td>288</td>\n",
       "      <td>17</td>\n",
       "      <td>28</td>\n",
       "    </tr>\n",
       "  </tbody>\n",
       "</table>\n",
       "</div>"
      ],
      "text/plain": [
       "        make  normalized-losses  curb-weight  engine-size horsepower  \\\n",
       "44     isuzu              92.25         1874           90         70   \n",
       "45     isuzu              92.25         1909           90         70   \n",
       "129  porsche             186.00         3366          203        288   \n",
       "\n",
       "     city-mpg  highway-mpg  \n",
       "44         38           43  \n",
       "45         38           43  \n",
       "129        17           28  "
      ]
     },
     "execution_count": 59,
     "metadata": {},
     "output_type": "execute_result"
    }
   ],
   "source": [
    "df[df['price'].isnull()][['make','price','normalized-losses', 'curb-weight', 'engine-size', 'horsepower', 'city-mpg', 'highway-mpg']]"
   ]
  },
  {
   "cell_type": "code",
   "execution_count": 3,
   "metadata": {},
   "outputs": [
    {
     "data": {
      "text/html": [
       "<div>\n",
       "<style scoped>\n",
       "    .dataframe tbody tr th:only-of-type {\n",
       "        vertical-align: middle;\n",
       "    }\n",
       "\n",
       "    .dataframe tbody tr th {\n",
       "        vertical-align: top;\n",
       "    }\n",
       "\n",
       "    .dataframe thead th {\n",
       "        text-align: right;\n",
       "    }\n",
       "</style>\n",
       "<table border=\"1\" class=\"dataframe\">\n",
       "  <thead>\n",
       "    <tr style=\"text-align: right;\">\n",
       "      <th></th>\n",
       "      <th>make</th>\n",
       "      <th>price</th>\n",
       "      <th>normalized-losses</th>\n",
       "      <th>curb-weight</th>\n",
       "      <th>engine-size</th>\n",
       "      <th>horsepower</th>\n",
       "      <th>city-mpg</th>\n",
       "      <th>highway-mpg</th>\n",
       "    </tr>\n",
       "  </thead>\n",
       "  <tbody>\n",
       "    <tr>\n",
       "      <th>9</th>\n",
       "      <td>audi</td>\n",
       "      <td>?</td>\n",
       "      <td>?</td>\n",
       "      <td>3053</td>\n",
       "      <td>131</td>\n",
       "      <td>160</td>\n",
       "      <td>16</td>\n",
       "      <td>22</td>\n",
       "    </tr>\n",
       "  </tbody>\n",
       "</table>\n",
       "</div>"
      ],
      "text/plain": [
       "   make price normalized-losses  curb-weight  engine-size horsepower  \\\n",
       "9  audi     ?                 ?         3053          131        160   \n",
       "\n",
       "   city-mpg  highway-mpg  \n",
       "9        16           22  "
      ]
     },
     "execution_count": 3,
     "metadata": {},
     "output_type": "execute_result"
    }
   ],
   "source": [
    "df.iloc[9:10][['make','price','normalized-losses', 'curb-weight', 'engine-size', 'horsepower', 'city-mpg', 'highway-mpg']]"
   ]
  },
  {
   "cell_type": "code",
   "execution_count": 55,
   "metadata": {},
   "outputs": [],
   "source": [
    "from sklearn.neighbors import KNeighborsRegressor\n",
    "import numpy as np\n",
    "\n",
    "# Seleccionar columnas numéricas\n",
    "columns_numericas = ['wheel-base', 'length', 'width', 'height', 'curb-weight', \n",
    "                     'engine-size', 'compression-ratio', 'city-mpg', 'highway-mpg']\n",
    "\n",
    "n_neighbors = 5\n",
    "\n",
    "# Iterar sobre cada marca en el DataFrame\n",
    "for marca_objetivo in df['make'].unique():\n",
    "    # Filtrar el DataFrame por la marca\n",
    "    df_objetivo = df[df['make'] == marca_objetivo]\n",
    "    \n",
    "    # Verificar si hay suficientes muestras para aplicar KNN\n",
    "    if len(df_objetivo) < n_neighbors:\n",
    "        continue  # Si no hay suficientes muestras, saltar esta marca\n",
    "    \n",
    "    # Filtrar las filas donde el precio es nulo\n",
    "    df_objetivo_nulos = df_objetivo[df_objetivo['price'].isnull()]\n",
    "    \n",
    "    # Si no hay precios nulos, continuar con la siguiente marca\n",
    "    if df_objetivo_nulos.empty:\n",
    "        continue\n",
    "\n",
    "    # Filtrar filas con valores no nulos de precio\n",
    "    df_objetivo_completos = df_objetivo.dropna(subset=['price'])\n",
    "    \n",
    "    # Verificar si hay suficientes muestras para aplicar KNN (al menos n_neighbors)\n",
    "    if len(df_objetivo_completos) < n_neighbors:\n",
    "        continue  # Si no hay suficientes muestras, saltar esta marca\n",
    "    \n",
    "    # Crear el modelo KNN\n",
    "    knn = KNeighborsRegressor(n_neighbors=n_neighbors)\n",
    "    \n",
    "    # Ajustar el modelo con las filas completas\n",
    "    knn.fit(df_objetivo_completos[columns_numericas], df_objetivo_completos['price'])\n",
    "    \n",
    "    # Predecir los precios para los autos con valores nulos\n",
    "    precios_imputados = knn.predict(df_objetivo_nulos[columns_numericas])\n",
    "    \n",
    "    # Si hay predicciones, actualizar el DataFrame\n",
    "    if len(precios_imputados) > 0:\n",
    "        df_objetivo_nulos['price'] = precios_imputados\n",
    "        # Reemplazar los valores nulos por las predicciones en el DataFrame original\n",
    "        df.update(df_objetivo_nulos)\n"
   ]
  },
  {
   "cell_type": "code",
   "execution_count": 56,
   "metadata": {},
   "outputs": [
    {
     "name": "stdout",
     "output_type": "stream",
     "text": [
      "Las siguientes marcas no pudieron ser imputadas por falta de suficientes datos: alfa-romero, chevrolet, isuzu, jaguar, mercury, porsche, renault\n"
     ]
    }
   ],
   "source": [
    "from sklearn.neighbors import KNeighborsRegressor\n",
    "import numpy as np\n",
    "\n",
    "# Seleccionar columnas numéricas\n",
    "columns_numericas = ['wheel-base', 'length', 'width', 'height', 'curb-weight', \n",
    "                     'engine-size', 'compression-ratio', 'city-mpg', 'highway-mpg']\n",
    "\n",
    "n_neighbors = 5\n",
    "marcas_no_imputadas = []  # Lista para almacenar marcas no imputadas\n",
    "\n",
    "# Iterar sobre cada marca en el DataFrame\n",
    "for marca_objetivo in df['make'].unique():\n",
    "    # Filtrar el DataFrame por la marca\n",
    "    df_objetivo = df[df['make'] == marca_objetivo]\n",
    "    \n",
    "    # Verificar si hay suficientes muestras para aplicar KNN\n",
    "    if len(df_objetivo) < n_neighbors:\n",
    "        marcas_no_imputadas.append(marca_objetivo)  # Agregar marca a la lista\n",
    "        continue  # Si no hay suficientes muestras, saltar esta marca\n",
    "    \n",
    "    # Filtrar las filas donde el precio es nulo\n",
    "    df_objetivo_nulos = df_objetivo[df_objetivo['price'].isnull()]\n",
    "    \n",
    "    # Si no hay precios nulos, continuar con la siguiente marca\n",
    "    if df_objetivo_nulos.empty:\n",
    "        continue\n",
    "\n",
    "    # Filtrar filas con valores no nulos de precio\n",
    "    df_objetivo_completos = df_objetivo.dropna(subset=['price'])\n",
    "    \n",
    "    # Verificar si hay suficientes muestras para aplicar KNN (al menos n_neighbors)\n",
    "    if len(df_objetivo_completos) < n_neighbors:\n",
    "        marcas_no_imputadas.append(marca_objetivo)  # Agregar marca a la lista\n",
    "        continue  # Si no hay suficientes muestras, saltar esta marca\n",
    "    \n",
    "    # Crear el modelo KNN\n",
    "    knn = KNeighborsRegressor(n_neighbors=n_neighbors)\n",
    "    \n",
    "    # Ajustar el modelo con las filas completas\n",
    "    knn.fit(df_objetivo_completos[columns_numericas], df_objetivo_completos['price'])\n",
    "    \n",
    "    # Predecir los precios para los autos con valores nulos\n",
    "    precios_imputados = knn.predict(df_objetivo_nulos[columns_numericas])\n",
    "    \n",
    "    # Si hay predicciones, actualizar el DataFrame\n",
    "    if len(precios_imputados) > 0:\n",
    "        df_objetivo_nulos['price'] = precios_imputados\n",
    "        # Reemplazar los valores nulos por las predicciones en el DataFrame original\n",
    "        df.update(df_objetivo_nulos)\n",
    "\n",
    "# Avisar sobre marcas que no pudieron ser imputadas\n",
    "if marcas_no_imputadas:\n",
    "    print(f\"Las siguientes marcas no pudieron ser imputadas por falta de suficientes datos: {', '.join(marcas_no_imputadas)}\")\n",
    "else:\n",
    "    print(\"Todas las marcas fueron imputadas correctamente.\")\n"
   ]
  },
  {
   "cell_type": "markdown",
   "metadata": {},
   "source": [
    "**FIN Detección y tratamiento de valores nulos.**"
   ]
  },
  {
   "cell_type": "code",
   "execution_count": 57,
   "metadata": {},
   "outputs": [
    {
     "name": "stdout",
     "output_type": "stream",
     "text": [
      "Número de registros duplicados: 0\n"
     ]
    }
   ],
   "source": [
    "# Identificar duplicados\n",
    "duplicados = df.duplicated()\n",
    "# Contar el número de duplicados\n",
    "num_duplicados = duplicados.sum()\n",
    "print(f\"Número de registros duplicados: {num_duplicados}\")"
   ]
  },
  {
   "cell_type": "code",
   "execution_count": null,
   "metadata": {},
   "outputs": [],
   "source": [
    "# Visualización de la distribución de las variables numéricas\n",
    "for column in df.select_dtypes(include='number').columns:\n",
    "    plt.figure(figsize=(8, 4))\n",
    "    sns.histplot(df[column], kde=True)\n",
    "    plt.title(f'Distribución de la variable: {column}')\n",
    "    plt.show()"
   ]
  },
  {
   "cell_type": "code",
   "execution_count": null,
   "metadata": {},
   "outputs": [],
   "source": [
    "# Para variables categóricas\n",
    "for column in df.select_dtypes(include='object').columns:\n",
    "    plt.figure(figsize=(10, 5))\n",
    "    sns.countplot(x=column, data=df)\n",
    "    plt.title(f'Distribución de la variable categórica: {column}')\n",
    "    plt.xticks(rotation=45)\n",
    "    plt.show()"
   ]
  },
  {
   "cell_type": "code",
   "execution_count": null,
   "metadata": {},
   "outputs": [],
   "source": []
  },
  {
   "cell_type": "code",
   "execution_count": null,
   "metadata": {},
   "outputs": [],
   "source": [
    "# NO hay valores nulos.\n",
    "ver_resumen_nulos(df)"
   ]
  },
  {
   "cell_type": "code",
   "execution_count": null,
   "metadata": {},
   "outputs": [],
   "source": [
    "# Detectar columnas con valores únicos ['Yes', 'No']\n",
    "yes_no_columns = [col for col in df.columns if sorted(df[col].dropna().unique()) == ['No', 'Yes']]\n",
    "print(\"Columnas con valores 'Yes' y 'No':\", yes_no_columns)\n",
    "# Aplicar el mapeo 'Yes' -> 1 y 'No' -> 0 a todas las columnas de una vez usando map y itertools\n",
    "df[yes_no_columns] = pd.DataFrame(\n",
    "    map(lambda col: df[col].map({'Yes': 1, 'No': 0}), yes_no_columns)\n",
    ").T.set_axis(yes_no_columns, axis=1)"
   ]
  },
  {
   "cell_type": "code",
   "execution_count": 34,
   "metadata": {},
   "outputs": [],
   "source": [
    "# Reemplazar '?' por NaN y convertir a tipo numérico\n",
    "df['normalized-losses'] = df['normalized-losses'].replace('?', np.nan).astype(float)\n",
    "\n",
    "# Calcular la media de 'normalized-losses' agrupada por las columnas seleccionadas\n",
    "media_por_grupo = df.groupby(['make', 'body-style', 'drive-wheels', 'fuel-type', 'engine-type'])['normalized-losses'].transform('mean')\n"
   ]
  },
  {
   "cell_type": "code",
   "execution_count": null,
   "metadata": {},
   "outputs": [],
   "source": [
    "df[media_por_grupo.isnull()]"
   ]
  },
  {
   "cell_type": "code",
   "execution_count": null,
   "metadata": {},
   "outputs": [],
   "source": [
    "# Imputar los valores nulos con la media por grupo\n",
    "df['normalized-losses'].fillna(media_por_grupo, inplace=True)\n"
   ]
  },
  {
   "cell_type": "code",
   "execution_count": null,
   "metadata": {},
   "outputs": [],
   "source": [
    "df[media_por_grupo.isnull()]"
   ]
  }
 ],
 "metadata": {
  "kernelspec": {
   "display_name": "machine_learning_ds02",
   "language": "python",
   "name": "python3"
  },
  "language_info": {
   "codemirror_mode": {
    "name": "ipython",
    "version": 3
   },
   "file_extension": ".py",
   "mimetype": "text/x-python",
   "name": "python",
   "nbconvert_exporter": "python",
   "pygments_lexer": "ipython3",
   "version": "3.13.0"
  }
 },
 "nbformat": 4,
 "nbformat_minor": 2
}
