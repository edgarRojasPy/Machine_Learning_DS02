{
 "cells": [
  {
   "cell_type": "markdown",
   "metadata": {},
   "source": [
    "##Integración en un Flujo de Trabajo de Aprendizaje Automático\n",
    "\n",
    "Ahora que hemos aprendido sobre SimpleImputer, OneHotEncoder y LabelEncoder, veamos cómo integrarlos en un flujo de trabajo completo de aprendizaje automático.\n",
    "\n",
    "En este ejemplo:\n",
    "\n",
    "1. Cargamos el conjunto de datos «tic-tac-toe» utilizando fetch_openml() de Scikit-learn.\n",
    "2. Dividimos los datos en conjuntos de entrenamiento y prueba utilizando train_test_split().\n",
    "3. Creamos instancias de SimpleImputer y OneHotEncoder para manejar valores faltantes y codificar variables categóricas, respectivamente.\n",
    "4. Preprocesamos los datos de entrenamiento y prueba utilizando los transformadores.\n",
    "5. Codificamos las etiquetas de destino utilizando LabelEncoder.\n",
    "6. Creamos y entrenamos un clasificador de árboles de decisión.\n",
    "7. Hacemos predicciones en el conjunto de prueba y calculamos la precisión del modelo.\n",
    " \n",
    "\n",
    "Este ejemplo muestra cómo podemos encadenar diferentes pasos de preprocesamiento y ajustar un modelo en un flujo de trabajo coherente."
   ]
  },
  {
   "cell_type": "code",
   "execution_count": 1,
   "metadata": {},
   "outputs": [
    {
     "name": "stdout",
     "output_type": "stream",
     "text": [
      "Precisión del modelo: 0.9479166666666666\n"
     ]
    }
   ],
   "source": [
    "from sklearn.datasets import fetch_openml\n",
    "from sklearn.impute import SimpleImputer\n",
    "from sklearn.preprocessing import OneHotEncoder, LabelEncoder\n",
    "from sklearn.model_selection import train_test_split\n",
    "from sklearn.tree import DecisionTreeClassifier\n",
    "from sklearn.metrics import accuracy_score\n",
    "\n",
    "# Cargar el conjunto de datos\n",
    "X, y = fetch_openml('tic-tac-toe', version=1, return_X_y=True)\n",
    "\n",
    "# Dividir los datos en conjuntos de entrenamiento y prueba\n",
    "X_train, X_test, y_train, y_test = train_test_split(X, y, test_size=0.2, random_state=42)\n",
    "\n",
    "# Crear un imputador para manejar valores faltantes\n",
    "imputer = SimpleImputer(strategy='most_frequent')\n",
    "\n",
    "# Crear un codificador One-Hot para variables categóricas\n",
    "encoder = OneHotEncoder()\n",
    "\n",
    "# Preprocesar los datos de entrenamiento\n",
    "X_train_imputed = imputer.fit_transform(X_train)\n",
    "X_train_encoded = encoder.fit_transform(X_train_imputed)\n",
    "\n",
    "# Preprocesar los datos de prueba\n",
    "X_test_imputed = imputer.transform(X_test)\n",
    "X_test_encoded = encoder.transform(X_test_imputed)\n",
    "\n",
    "# Codificar las etiquetas de destino\n",
    "label_encoder = LabelEncoder()\n",
    "y_train_encoded = label_encoder.fit_transform(y_train)\n",
    "y_test_encoded = label_encoder.transform(y_test)\n",
    "\n",
    "# Crear y entrenar un clasificador de árboles de decisión\n",
    "classifier = DecisionTreeClassifier()\n",
    "classifier.fit(X_train_encoded, y_train_encoded)\n",
    "\n",
    "# Hacer predicciones en el conjunto de prueba\n",
    "y_pred = classifier.predict(X_test_encoded)\n",
    "\n",
    "# Calcular la precisión del modelo\n",
    "accuracy = accuracy_score(y_test_encoded, y_pred)\n",
    "print(f\"Precisión del modelo: {accuracy}\")"
   ]
  }
 ],
 "metadata": {
  "kernelspec": {
   "display_name": "machine_learning_ds02",
   "language": "python",
   "name": "python3"
  },
  "language_info": {
   "codemirror_mode": {
    "name": "ipython",
    "version": 3
   },
   "file_extension": ".py",
   "mimetype": "text/x-python",
   "name": "python",
   "nbconvert_exporter": "python",
   "pygments_lexer": "ipython3",
   "version": "3.13.0"
  }
 },
 "nbformat": 4,
 "nbformat_minor": 2
}
