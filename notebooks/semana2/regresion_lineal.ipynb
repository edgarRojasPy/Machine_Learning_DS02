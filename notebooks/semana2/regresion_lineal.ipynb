{
 "cells": [
  {
   "cell_type": "code",
   "execution_count": 2,
   "metadata": {},
   "outputs": [
    {
     "name": "stdout",
     "output_type": "stream",
     "text": [
      "Coeficiente del modelo: [ 4.48674910e-01  9.72425752e-03 -1.23323343e-01  7.83144907e-01\n",
      " -2.02962058e-06 -3.52631849e-03 -4.19792487e-01 -4.33708065e-01]\n",
      "Intercepto del modelo: -37.023277706063986\n"
     ]
    }
   ],
   "source": [
    "from sklearn.linear_model import LinearRegression\n",
    "from sklearn.datasets import fetch_california_housing\n",
    "from sklearn.model_selection import train_test_split\n",
    "\n",
    "data = fetch_california_housing()\n",
    "X, y = data.data, data.target\n",
    "\n",
    "X_train, X_test, y_train, y_test = train_test_split(X, y, test_size=0.2, random_state=42)\n",
    "\n",
    "# Regresion lineal por defecto.\n",
    "# model = LinearRegression()\n",
    "\n",
    "# Regresion lineal con 5 hyper parámetros\n",
    "model = LinearRegression(\n",
    "    fit_intercept= True,      # Si se debe calcular el intercepto\n",
    "    #normalize = 'deprecated', # Normalizar los datos, opcion deprecada\n",
    "    copy_X=True,              # Si se debe hacer una copia de X\n",
    "    n_jobs=None,              # Numero de procesadores a utilizar. None es usar uno\n",
    "    positive=False            # Si se deben forzar los coeficientes para que sea positivos\n",
    ")\n",
    "# El modelo tiene diferentes tipos de parámetros(?) o de funciones.\n",
    "# fit es el entrenamiento (en standard scaler, one hor encoder o cualquier otro modelo que puedan transformar los datos es entrenamiento)\n",
    "# Se deben notar que le pasamos las entradas y las salidas que deben tener, x es entrada, y es salida. Son entradas y salidas para el entrenamiento.\n",
    "# El resultado es un modelo entrenado.\n",
    "model.fit(X_train, y_train)\n",
    "\n",
    "# Cuando el modelo ya fue entrenado, lo ponemos a predecir.\n",
    "# Aqui solo le pasamos la entrada. La salida es el resultado a predecir.\n",
    "y_pred = model.predict(X_test)\n",
    "\n",
    "print(\"Coeficiente del modelo:\", model.coef_)\n",
    "print(\"Intercepto del modelo:\",model.intercept_)"
   ]
  },
  {
   "cell_type": "code",
   "execution_count": 3,
   "metadata": {},
   "outputs": [
    {
     "data": {
      "text/plain": [
       "array([0.477  , 0.458  , 5.00001, ..., 5.00001, 0.723  , 1.515  ])"
      ]
     },
     "execution_count": 3,
     "metadata": {},
     "output_type": "execute_result"
    }
   ],
   "source": [
    "# Comparar los resultados de con los de prediccion.\n",
    "y_test"
   ]
  },
  {
   "cell_type": "code",
   "execution_count": 4,
   "metadata": {},
   "outputs": [
    {
     "data": {
      "text/plain": [
       "array([0.71912284, 1.76401657, 2.70965883, ..., 4.46877017, 1.18751119,\n",
       "       2.00940251])"
      ]
     },
     "execution_count": 4,
     "metadata": {},
     "output_type": "execute_result"
    }
   ],
   "source": [
    "y_pred"
   ]
  }
 ],
 "metadata": {
  "kernelspec": {
   "display_name": "machine_learning_ds02",
   "language": "python",
   "name": "python3"
  },
  "language_info": {
   "codemirror_mode": {
    "name": "ipython",
    "version": 3
   },
   "file_extension": ".py",
   "mimetype": "text/x-python",
   "name": "python",
   "nbconvert_exporter": "python",
   "pygments_lexer": "ipython3",
   "version": "3.13.0"
  }
 },
 "nbformat": 4,
 "nbformat_minor": 2
}
