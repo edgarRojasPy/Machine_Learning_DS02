{
 "cells": [
  {
   "cell_type": "code",
   "execution_count": 3,
   "metadata": {},
   "outputs": [],
   "source": [
    "import pandas as pd\n",
    "import numpy as np\n",
    "import random\n",
    "import matplotlib.pyplot as plt\n",
    "import seaborn as sns\n",
    "\n",
    "# Agregar la carpeta 'src' al sys.path\n",
    "import sys\n",
    "import os\n",
    "\n",
    "sys.path.append(os.path.abspath(\"../../src\"))\n",
    "\n",
    "# Ahora puedes importar utils\n",
    "from utils import cargar_datos_pd\n",
    "from utils import ver_resumen_nulos\n",
    "from utils import limpiar_letras_de_numeros\n",
    "from utils import obtener_filas_no_numericas\n",
    "from utils import identificar_atipicos_IQR\n",
    "from utils import ver_diccionario\n",
    "from utils import imprimir_bigotes\n",
    "from utils import obtener_filas_no_fechas\n",
    "\n",
    "ruta_archivo = \"../../data/Automobile_data.csv\"\n",
    "columna = 'nombre_columna'\n",
    "titulo = 'titulo'\n",
    "#Carganos el archivo. Se modifico manualmente el archivo para la limpieza.\n",
    "# Carga los datos del archivo CSV utilizando Pandas.\n",
    "df = pd.read_csv(ruta_archivo, sep=',',header=0)"
   ]
  }
 ],
 "metadata": {
  "kernelspec": {
   "display_name": "machine_learning_ds02",
   "language": "python",
   "name": "python3"
  },
  "language_info": {
   "codemirror_mode": {
    "name": "ipython",
    "version": 3
   },
   "file_extension": ".py",
   "mimetype": "text/x-python",
   "name": "python",
   "nbconvert_exporter": "python",
   "pygments_lexer": "ipython3",
   "version": "3.13.0"
  }
 },
 "nbformat": 4,
 "nbformat_minor": 2
}
