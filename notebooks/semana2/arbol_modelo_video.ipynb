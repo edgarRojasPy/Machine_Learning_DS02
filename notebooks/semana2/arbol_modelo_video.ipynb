{
 "cells": [
  {
   "cell_type": "code",
   "execution_count": 7,
   "metadata": {},
   "outputs": [
    {
     "name": "stdout",
     "output_type": "stream",
     "text": [
      "Primeras predicciones: [0.414   1.203   5.00001 2.17    2.257  ]\n",
      "Primeras pruenas: [0.477   0.458   5.00001 2.186   2.78   ]\n"
     ]
    }
   ],
   "source": [
    "from sklearn.tree import DecisionTreeRegressor\n",
    "from sklearn.datasets import fetch_california_housing\n",
    "from sklearn.model_selection import train_test_split\n",
    "\n",
    "# Cargar el Dataset\n",
    "data = fetch_california_housing()\n",
    "X,y = data.data, data.target\n",
    "\n",
    "# Dividir el dataset en entrenamiento y prueba\n",
    "X_train, X_test, y_train, y_test = train_test_split(X, y, test_size=0.2, random_state=42)\n",
    "\n",
    "# Crear un modelo de arbol de decision para regresion\n",
    "#modelo = DecisionTreeRegressor(criterion='squared_error', # Función para medir la calidad de división\n",
    "#                               splitter='best', # Estrategia para dividir cada nodo ('best' o 'random')\n",
    "#                               max_depth=None, # Máxima profundidad del arbol\n",
    "#                               min_samples_split=2, # Mínimo número de muestras para dividir un nodo\n",
    "#                               min_samples_leaf=1, # Mínimo número de muestras en un nodo hoja\n",
    "#                               min_weight_fraction_leaf=0.0,# Fracción mínima de peso para nodo hoja\n",
    "#                               random_state=42, # Controlar la aleatoriedad\n",
    "#                               max_features=None, # Número máximo de nodos hoja\n",
    "#                               min_impurity_decrease=0.0, # Reducción mínimo impureza para hacer una división.\n",
    "#                               ccp_alpha=0.0 # complejidad de poda minima\n",
    "#                              )\n",
    "# Crear un modelo de arbol de decision para regresion\n",
    "modelo = DecisionTreeRegressor(max_depth=None, # Máxima profundidad del arbol\n",
    "                               random_state=42, # Controlar la aleatoriedad\n",
    "                              )\n",
    "# Ajustar el modelo a los datos de entrenamiento\n",
    "modelo.fit(X_train,y_train)\n",
    "\n",
    "# Hacer predicciones en el modelo de ajustado\n",
    "y_pred = modelo.predict(X_test)\n",
    "\n",
    "# Mostrar las primeras predicciones\n",
    "print(\"Primeras predicciones:\", y_pred[:5])\n",
    "\n",
    "# Mostrar las primeras predicciones\n",
    "print(\"Primeras pruenas:\", y_test[:5])"
   ]
  }
 ],
 "metadata": {
  "kernelspec": {
   "display_name": "machine_learning_ds02",
   "language": "python",
   "name": "python3"
  },
  "language_info": {
   "codemirror_mode": {
    "name": "ipython",
    "version": 3
   },
   "file_extension": ".py",
   "mimetype": "text/x-python",
   "name": "python",
   "nbconvert_exporter": "python",
   "pygments_lexer": "ipython3",
   "version": "3.13.0"
  }
 },
 "nbformat": 4,
 "nbformat_minor": 2
}
